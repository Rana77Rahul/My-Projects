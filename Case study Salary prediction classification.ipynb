{
 "cells": [
  {
   "cell_type": "code",
   "execution_count": 1,
   "id": "bac5203c",
   "metadata": {},
   "outputs": [],
   "source": [
    "# import libraries\n",
    "import pandas as pd\n",
    "import numpy as np\n",
    "import matplotlib.pyplot as plt\n",
    "%matplotlib inline\n",
    "# to show graphs in jupyter notebook not in external tab\n",
    "\n",
    "import seaborn as sns\n",
    "import warnings\n",
    "warnings.filterwarnings('ignore')\n",
    "\n",
    "import statsmodels as st\n",
    "\n",
    "from ydata_profiling import ProfileReport\n",
    "\n",
    "import category_encoders as ce\n",
    "\n",
    "from sklearn.model_selection import train_test_split\n",
    "\n",
    "from sklearn.linear_model import LogisticRegression\n",
    "\n",
    "from sklearn.metrics import accuracy_score, confusion_matrix, classification_report, f1_score, recall_score, precision_score\n",
    "\n",
    "from sklearn.naive_bayes import GaussianNB, BernoulliNB, MultinomialNB\n",
    "\n",
    "from sklearn.tree import DecisionTreeClassifier,\n",
    "\n",
    "from sklearn.model_selection import GridSearchCV"
   ]
  },
  {
   "cell_type": "code",
   "execution_count": 2,
   "id": "511e8c24",
   "metadata": {},
   "outputs": [],
   "source": [
    "# plot size\n",
    "plt.rcParams['figure.figsize']=[15,8]"
   ]
  },
  {
   "cell_type": "code",
   "execution_count": 3,
   "id": "0e4b2b78",
   "metadata": {},
   "outputs": [],
   "source": [
    "# Problem Statement\n",
    "# The goal here is to train a binatu classifier on the training dataset to predict the expense columns"
   ]
  },
  {
   "cell_type": "code",
   "execution_count": 4,
   "id": "4cb9116a",
   "metadata": {},
   "outputs": [
    {
     "data": {
      "text/html": [
       "<div>\n",
       "<style scoped>\n",
       "    .dataframe tbody tr th:only-of-type {\n",
       "        vertical-align: middle;\n",
       "    }\n",
       "\n",
       "    .dataframe tbody tr th {\n",
       "        vertical-align: top;\n",
       "    }\n",
       "\n",
       "    .dataframe thead th {\n",
       "        text-align: right;\n",
       "    }\n",
       "</style>\n",
       "<table border=\"1\" class=\"dataframe\">\n",
       "  <thead>\n",
       "    <tr style=\"text-align: right;\">\n",
       "      <th></th>\n",
       "      <th>age</th>\n",
       "      <th>workclass</th>\n",
       "      <th>education</th>\n",
       "      <th>education-num</th>\n",
       "      <th>marital-status</th>\n",
       "      <th>occupation</th>\n",
       "      <th>relationship</th>\n",
       "      <th>race</th>\n",
       "      <th>sex</th>\n",
       "      <th>capital-gain</th>\n",
       "      <th>capital-loss</th>\n",
       "      <th>hours-per-week</th>\n",
       "      <th>native-country</th>\n",
       "      <th>Expense</th>\n",
       "    </tr>\n",
       "  </thead>\n",
       "  <tbody>\n",
       "    <tr>\n",
       "      <th>0</th>\n",
       "      <td>39</td>\n",
       "      <td>Self-emp-inc</td>\n",
       "      <td>Bachelors</td>\n",
       "      <td>13</td>\n",
       "      <td>Married-civ-spouse</td>\n",
       "      <td>Exec-managerial</td>\n",
       "      <td>Husband</td>\n",
       "      <td>White</td>\n",
       "      <td>Male</td>\n",
       "      <td>15024</td>\n",
       "      <td>0</td>\n",
       "      <td>50</td>\n",
       "      <td>United-States</td>\n",
       "      <td>&gt;50K</td>\n",
       "    </tr>\n",
       "    <tr>\n",
       "      <th>1</th>\n",
       "      <td>20</td>\n",
       "      <td>Private</td>\n",
       "      <td>Some-college</td>\n",
       "      <td>10</td>\n",
       "      <td>Never-married</td>\n",
       "      <td>Other-service</td>\n",
       "      <td>Own-child</td>\n",
       "      <td>White</td>\n",
       "      <td>Male</td>\n",
       "      <td>0</td>\n",
       "      <td>0</td>\n",
       "      <td>40</td>\n",
       "      <td>United-States</td>\n",
       "      <td>&lt;=50K</td>\n",
       "    </tr>\n",
       "    <tr>\n",
       "      <th>2</th>\n",
       "      <td>50</td>\n",
       "      <td>Private</td>\n",
       "      <td>Doctorate</td>\n",
       "      <td>16</td>\n",
       "      <td>Married-civ-spouse</td>\n",
       "      <td>Prof-specialty</td>\n",
       "      <td>Husband</td>\n",
       "      <td>White</td>\n",
       "      <td>Male</td>\n",
       "      <td>0</td>\n",
       "      <td>1902</td>\n",
       "      <td>65</td>\n",
       "      <td>United-States</td>\n",
       "      <td>&gt;50K</td>\n",
       "    </tr>\n",
       "    <tr>\n",
       "      <th>3</th>\n",
       "      <td>38</td>\n",
       "      <td>State-gov</td>\n",
       "      <td>HS-grad</td>\n",
       "      <td>9</td>\n",
       "      <td>Married-civ-spouse</td>\n",
       "      <td>Prof-specialty</td>\n",
       "      <td>Wife</td>\n",
       "      <td>White</td>\n",
       "      <td>Female</td>\n",
       "      <td>0</td>\n",
       "      <td>0</td>\n",
       "      <td>40</td>\n",
       "      <td>United-States</td>\n",
       "      <td>&gt;50K</td>\n",
       "    </tr>\n",
       "    <tr>\n",
       "      <th>4</th>\n",
       "      <td>23</td>\n",
       "      <td>Local-gov</td>\n",
       "      <td>Bachelors</td>\n",
       "      <td>13</td>\n",
       "      <td>Never-married</td>\n",
       "      <td>Prof-specialty</td>\n",
       "      <td>Own-child</td>\n",
       "      <td>White</td>\n",
       "      <td>Female</td>\n",
       "      <td>0</td>\n",
       "      <td>0</td>\n",
       "      <td>60</td>\n",
       "      <td>United-States</td>\n",
       "      <td>&lt;=50K</td>\n",
       "    </tr>\n",
       "    <tr>\n",
       "      <th>...</th>\n",
       "      <td>...</td>\n",
       "      <td>...</td>\n",
       "      <td>...</td>\n",
       "      <td>...</td>\n",
       "      <td>...</td>\n",
       "      <td>...</td>\n",
       "      <td>...</td>\n",
       "      <td>...</td>\n",
       "      <td>...</td>\n",
       "      <td>...</td>\n",
       "      <td>...</td>\n",
       "      <td>...</td>\n",
       "      <td>...</td>\n",
       "      <td>...</td>\n",
       "    </tr>\n",
       "    <tr>\n",
       "      <th>4995</th>\n",
       "      <td>38</td>\n",
       "      <td>Private</td>\n",
       "      <td>HS-grad</td>\n",
       "      <td>9</td>\n",
       "      <td>Married-civ-spouse</td>\n",
       "      <td>Machine-op-inspct</td>\n",
       "      <td>Husband</td>\n",
       "      <td>White</td>\n",
       "      <td>Male</td>\n",
       "      <td>0</td>\n",
       "      <td>0</td>\n",
       "      <td>40</td>\n",
       "      <td>United-States</td>\n",
       "      <td>&lt;=50K</td>\n",
       "    </tr>\n",
       "    <tr>\n",
       "      <th>4996</th>\n",
       "      <td>26</td>\n",
       "      <td>Private</td>\n",
       "      <td>Some-college</td>\n",
       "      <td>10</td>\n",
       "      <td>Never-married</td>\n",
       "      <td>Tech-support</td>\n",
       "      <td>Own-child</td>\n",
       "      <td>White</td>\n",
       "      <td>Female</td>\n",
       "      <td>0</td>\n",
       "      <td>0</td>\n",
       "      <td>40</td>\n",
       "      <td>United-States</td>\n",
       "      <td>&lt;=50K</td>\n",
       "    </tr>\n",
       "    <tr>\n",
       "      <th>4997</th>\n",
       "      <td>20</td>\n",
       "      <td>Private</td>\n",
       "      <td>11th</td>\n",
       "      <td>7</td>\n",
       "      <td>Never-married</td>\n",
       "      <td>Transport-moving</td>\n",
       "      <td>Own-child</td>\n",
       "      <td>White</td>\n",
       "      <td>Male</td>\n",
       "      <td>0</td>\n",
       "      <td>0</td>\n",
       "      <td>60</td>\n",
       "      <td>United-States</td>\n",
       "      <td>&lt;=50K</td>\n",
       "    </tr>\n",
       "    <tr>\n",
       "      <th>4998</th>\n",
       "      <td>24</td>\n",
       "      <td>Private</td>\n",
       "      <td>HS-grad</td>\n",
       "      <td>9</td>\n",
       "      <td>Married-civ-spouse</td>\n",
       "      <td>Craft-repair</td>\n",
       "      <td>Husband</td>\n",
       "      <td>White</td>\n",
       "      <td>Male</td>\n",
       "      <td>0</td>\n",
       "      <td>0</td>\n",
       "      <td>60</td>\n",
       "      <td>Mexico</td>\n",
       "      <td>&gt;50K</td>\n",
       "    </tr>\n",
       "    <tr>\n",
       "      <th>4999</th>\n",
       "      <td>40</td>\n",
       "      <td>Private</td>\n",
       "      <td>HS-grad</td>\n",
       "      <td>9</td>\n",
       "      <td>Divorced</td>\n",
       "      <td>Craft-repair</td>\n",
       "      <td>Not-in-family</td>\n",
       "      <td>White</td>\n",
       "      <td>Male</td>\n",
       "      <td>0</td>\n",
       "      <td>0</td>\n",
       "      <td>45</td>\n",
       "      <td>United-States</td>\n",
       "      <td>&lt;=50K</td>\n",
       "    </tr>\n",
       "  </tbody>\n",
       "</table>\n",
       "<p>5000 rows × 14 columns</p>\n",
       "</div>"
      ],
      "text/plain": [
       "      age      workclass      education  education-num       marital-status  \\\n",
       "0      39   Self-emp-inc      Bachelors             13   Married-civ-spouse   \n",
       "1      20        Private   Some-college             10        Never-married   \n",
       "2      50        Private      Doctorate             16   Married-civ-spouse   \n",
       "3      38      State-gov        HS-grad              9   Married-civ-spouse   \n",
       "4      23      Local-gov      Bachelors             13        Never-married   \n",
       "...   ...            ...            ...            ...                  ...   \n",
       "4995   38        Private        HS-grad              9   Married-civ-spouse   \n",
       "4996   26        Private   Some-college             10        Never-married   \n",
       "4997   20        Private           11th              7        Never-married   \n",
       "4998   24        Private        HS-grad              9   Married-civ-spouse   \n",
       "4999   40        Private        HS-grad              9             Divorced   \n",
       "\n",
       "              occupation    relationship    race      sex  capital-gain  \\\n",
       "0        Exec-managerial         Husband   White     Male         15024   \n",
       "1          Other-service       Own-child   White     Male             0   \n",
       "2         Prof-specialty         Husband   White     Male             0   \n",
       "3         Prof-specialty            Wife   White   Female             0   \n",
       "4         Prof-specialty       Own-child   White   Female             0   \n",
       "...                  ...             ...     ...      ...           ...   \n",
       "4995   Machine-op-inspct         Husband   White     Male             0   \n",
       "4996        Tech-support       Own-child   White   Female             0   \n",
       "4997    Transport-moving       Own-child   White     Male             0   \n",
       "4998        Craft-repair         Husband   White     Male             0   \n",
       "4999        Craft-repair   Not-in-family   White     Male             0   \n",
       "\n",
       "      capital-loss  hours-per-week  native-country Expense  \n",
       "0                0              50   United-States    >50K  \n",
       "1                0              40   United-States   <=50K  \n",
       "2             1902              65   United-States    >50K  \n",
       "3                0              40   United-States    >50K  \n",
       "4                0              60   United-States   <=50K  \n",
       "...            ...             ...             ...     ...  \n",
       "4995             0              40   United-States   <=50K  \n",
       "4996             0              40   United-States   <=50K  \n",
       "4997             0              60   United-States   <=50K  \n",
       "4998             0              60          Mexico    >50K  \n",
       "4999             0              45   United-States   <=50K  \n",
       "\n",
       "[5000 rows x 14 columns]"
      ]
     },
     "execution_count": 4,
     "metadata": {},
     "output_type": "execute_result"
    }
   ],
   "source": [
    "# load dataset\n",
    "df_expenses = pd.read_csv('Expence.csv')\n",
    "df_expenses"
   ]
  },
  {
   "cell_type": "code",
   "execution_count": 5,
   "id": "71ed3d17",
   "metadata": {},
   "outputs": [
    {
     "name": "stdout",
     "output_type": "stream",
     "text": [
      "<class 'pandas.core.frame.DataFrame'>\n",
      "RangeIndex: 5000 entries, 0 to 4999\n",
      "Data columns (total 14 columns):\n",
      " #   Column          Non-Null Count  Dtype \n",
      "---  ------          --------------  ----- \n",
      " 0   age             5000 non-null   int64 \n",
      " 1   workclass       5000 non-null   object\n",
      " 2   education       5000 non-null   object\n",
      " 3   education-num   5000 non-null   int64 \n",
      " 4   marital-status  5000 non-null   object\n",
      " 5   occupation      5000 non-null   object\n",
      " 6   relationship    5000 non-null   object\n",
      " 7   race            5000 non-null   object\n",
      " 8   sex             5000 non-null   object\n",
      " 9   capital-gain    5000 non-null   int64 \n",
      " 10  capital-loss    5000 non-null   int64 \n",
      " 11  hours-per-week  5000 non-null   int64 \n",
      " 12  native-country  5000 non-null   object\n",
      " 13  Expense         5000 non-null   object\n",
      "dtypes: int64(5), object(9)\n",
      "memory usage: 547.0+ KB\n"
     ]
    }
   ],
   "source": [
    "df_expenses.info()"
   ]
  },
  {
   "cell_type": "code",
   "execution_count": 6,
   "id": "48111c9c",
   "metadata": {},
   "outputs": [
    {
     "data": {
      "text/plain": [
       "age               69\n",
       "workclass          9\n",
       "education         16\n",
       "education-num     16\n",
       "marital-status     7\n",
       "occupation        15\n",
       "relationship       6\n",
       "race               5\n",
       "sex                2\n",
       "capital-gain      83\n",
       "capital-loss      57\n",
       "hours-per-week    74\n",
       "native-country    40\n",
       "Expense            2\n",
       "dtype: int64"
      ]
     },
     "execution_count": 6,
     "metadata": {},
     "output_type": "execute_result"
    }
   ],
   "source": [
    "df_expenses.nunique()"
   ]
  },
  {
   "cell_type": "code",
   "execution_count": 7,
   "id": "a9da1f21",
   "metadata": {},
   "outputs": [
    {
     "data": {
      "text/plain": [
       "age               0\n",
       "workclass         0\n",
       "education         0\n",
       "education-num     0\n",
       "marital-status    0\n",
       "occupation        0\n",
       "relationship      0\n",
       "race              0\n",
       "sex               0\n",
       "capital-gain      0\n",
       "capital-loss      0\n",
       "hours-per-week    0\n",
       "native-country    0\n",
       "Expense           0\n",
       "dtype: int64"
      ]
     },
     "execution_count": 7,
     "metadata": {},
     "output_type": "execute_result"
    }
   ],
   "source": [
    "df_expenses.isnull().sum()"
   ]
  },
  {
   "cell_type": "code",
   "execution_count": 8,
   "id": "f04723d9",
   "metadata": {},
   "outputs": [
    {
     "data": {
      "text/html": [
       "<div>\n",
       "<style scoped>\n",
       "    .dataframe tbody tr th:only-of-type {\n",
       "        vertical-align: middle;\n",
       "    }\n",
       "\n",
       "    .dataframe tbody tr th {\n",
       "        vertical-align: top;\n",
       "    }\n",
       "\n",
       "    .dataframe thead th {\n",
       "        text-align: right;\n",
       "    }\n",
       "</style>\n",
       "<table border=\"1\" class=\"dataframe\">\n",
       "  <thead>\n",
       "    <tr style=\"text-align: right;\">\n",
       "      <th></th>\n",
       "      <th>age</th>\n",
       "      <th>education-num</th>\n",
       "      <th>capital-gain</th>\n",
       "      <th>capital-loss</th>\n",
       "      <th>hours-per-week</th>\n",
       "    </tr>\n",
       "  </thead>\n",
       "  <tbody>\n",
       "    <tr>\n",
       "      <th>count</th>\n",
       "      <td>5000.000000</td>\n",
       "      <td>5000.000000</td>\n",
       "      <td>5000.000000</td>\n",
       "      <td>5000.000000</td>\n",
       "      <td>5000.000000</td>\n",
       "    </tr>\n",
       "    <tr>\n",
       "      <th>mean</th>\n",
       "      <td>38.656000</td>\n",
       "      <td>10.065000</td>\n",
       "      <td>1104.080000</td>\n",
       "      <td>90.032800</td>\n",
       "      <td>40.566200</td>\n",
       "    </tr>\n",
       "    <tr>\n",
       "      <th>std</th>\n",
       "      <td>13.698292</td>\n",
       "      <td>2.558141</td>\n",
       "      <td>7579.674371</td>\n",
       "      <td>404.168991</td>\n",
       "      <td>12.154191</td>\n",
       "    </tr>\n",
       "    <tr>\n",
       "      <th>min</th>\n",
       "      <td>17.000000</td>\n",
       "      <td>1.000000</td>\n",
       "      <td>0.000000</td>\n",
       "      <td>0.000000</td>\n",
       "      <td>1.000000</td>\n",
       "    </tr>\n",
       "    <tr>\n",
       "      <th>25%</th>\n",
       "      <td>28.000000</td>\n",
       "      <td>9.000000</td>\n",
       "      <td>0.000000</td>\n",
       "      <td>0.000000</td>\n",
       "      <td>40.000000</td>\n",
       "    </tr>\n",
       "    <tr>\n",
       "      <th>50%</th>\n",
       "      <td>37.000000</td>\n",
       "      <td>10.000000</td>\n",
       "      <td>0.000000</td>\n",
       "      <td>0.000000</td>\n",
       "      <td>40.000000</td>\n",
       "    </tr>\n",
       "    <tr>\n",
       "      <th>75%</th>\n",
       "      <td>48.000000</td>\n",
       "      <td>12.000000</td>\n",
       "      <td>0.000000</td>\n",
       "      <td>0.000000</td>\n",
       "      <td>45.000000</td>\n",
       "    </tr>\n",
       "    <tr>\n",
       "      <th>max</th>\n",
       "      <td>90.000000</td>\n",
       "      <td>16.000000</td>\n",
       "      <td>99999.000000</td>\n",
       "      <td>3004.000000</td>\n",
       "      <td>99.000000</td>\n",
       "    </tr>\n",
       "  </tbody>\n",
       "</table>\n",
       "</div>"
      ],
      "text/plain": [
       "               age  education-num  capital-gain  capital-loss  hours-per-week\n",
       "count  5000.000000    5000.000000   5000.000000   5000.000000     5000.000000\n",
       "mean     38.656000      10.065000   1104.080000     90.032800       40.566200\n",
       "std      13.698292       2.558141   7579.674371    404.168991       12.154191\n",
       "min      17.000000       1.000000      0.000000      0.000000        1.000000\n",
       "25%      28.000000       9.000000      0.000000      0.000000       40.000000\n",
       "50%      37.000000      10.000000      0.000000      0.000000       40.000000\n",
       "75%      48.000000      12.000000      0.000000      0.000000       45.000000\n",
       "max      90.000000      16.000000  99999.000000   3004.000000       99.000000"
      ]
     },
     "execution_count": 8,
     "metadata": {},
     "output_type": "execute_result"
    }
   ],
   "source": [
    "df_expenses.describe()"
   ]
  },
  {
   "cell_type": "code",
   "execution_count": 9,
   "id": "67ad7cb5",
   "metadata": {},
   "outputs": [
    {
     "data": {
      "text/plain": [
       " Private             3444\n",
       " Self-emp-not-inc     385\n",
       " ?                    320\n",
       " Local-gov            318\n",
       " State-gov            199\n",
       " Self-emp-inc         184\n",
       " Federal-gov          148\n",
       " Without-pay            1\n",
       " Never-worked           1\n",
       "Name: workclass, dtype: int64"
      ]
     },
     "execution_count": 9,
     "metadata": {},
     "output_type": "execute_result"
    }
   ],
   "source": [
    "df_expenses['workclass'].value_counts()"
   ]
  },
  {
   "cell_type": "code",
   "execution_count": 10,
   "id": "89ab0247",
   "metadata": {},
   "outputs": [],
   "source": [
    "# label encoding is not applicable"
   ]
  },
  {
   "cell_type": "code",
   "execution_count": 11,
   "id": "cbd75e4a",
   "metadata": {},
   "outputs": [],
   "source": [
    "# decision tree can work with missing values and outliers, if these are not treated, decision tree is not bothered"
   ]
  },
  {
   "cell_type": "code",
   "execution_count": 12,
   "id": "42d4333f",
   "metadata": {},
   "outputs": [
    {
     "name": "stdout",
     "output_type": "stream",
     "text": [
      "<bound method IndexOpsMixin.value_counts of 0        Self-emp-inc\n",
      "1             Private\n",
      "2             Private\n",
      "3           State-gov\n",
      "4           Local-gov\n",
      "            ...      \n",
      "4995          Private\n",
      "4996          Private\n",
      "4997          Private\n",
      "4998          Private\n",
      "4999          Private\n",
      "Name: workclass, Length: 5000, dtype: object>\n",
      "<bound method IndexOpsMixin.value_counts of 0           Bachelors\n",
      "1        Some-college\n",
      "2           Doctorate\n",
      "3             HS-grad\n",
      "4           Bachelors\n",
      "            ...      \n",
      "4995          HS-grad\n",
      "4996     Some-college\n",
      "4997             11th\n",
      "4998          HS-grad\n",
      "4999          HS-grad\n",
      "Name: education, Length: 5000, dtype: object>\n",
      "<bound method IndexOpsMixin.value_counts of 0        Married-civ-spouse\n",
      "1             Never-married\n",
      "2        Married-civ-spouse\n",
      "3        Married-civ-spouse\n",
      "4             Never-married\n",
      "               ...         \n",
      "4995     Married-civ-spouse\n",
      "4996          Never-married\n",
      "4997          Never-married\n",
      "4998     Married-civ-spouse\n",
      "4999               Divorced\n",
      "Name: marital-status, Length: 5000, dtype: object>\n",
      "<bound method IndexOpsMixin.value_counts of 0          Exec-managerial\n",
      "1            Other-service\n",
      "2           Prof-specialty\n",
      "3           Prof-specialty\n",
      "4           Prof-specialty\n",
      "               ...        \n",
      "4995     Machine-op-inspct\n",
      "4996          Tech-support\n",
      "4997      Transport-moving\n",
      "4998          Craft-repair\n",
      "4999          Craft-repair\n",
      "Name: occupation, Length: 5000, dtype: object>\n",
      "<bound method IndexOpsMixin.value_counts of 0              Husband\n",
      "1            Own-child\n",
      "2              Husband\n",
      "3                 Wife\n",
      "4            Own-child\n",
      "             ...      \n",
      "4995           Husband\n",
      "4996         Own-child\n",
      "4997         Own-child\n",
      "4998           Husband\n",
      "4999     Not-in-family\n",
      "Name: relationship, Length: 5000, dtype: object>\n",
      "<bound method IndexOpsMixin.value_counts of 0        White\n",
      "1        White\n",
      "2        White\n",
      "3        White\n",
      "4        White\n",
      "         ...  \n",
      "4995     White\n",
      "4996     White\n",
      "4997     White\n",
      "4998     White\n",
      "4999     White\n",
      "Name: race, Length: 5000, dtype: object>\n",
      "<bound method IndexOpsMixin.value_counts of 0          Male\n",
      "1          Male\n",
      "2          Male\n",
      "3        Female\n",
      "4        Female\n",
      "         ...   \n",
      "4995       Male\n",
      "4996     Female\n",
      "4997       Male\n",
      "4998       Male\n",
      "4999       Male\n",
      "Name: sex, Length: 5000, dtype: object>\n",
      "<bound method IndexOpsMixin.value_counts of 0        United-States\n",
      "1        United-States\n",
      "2        United-States\n",
      "3        United-States\n",
      "4        United-States\n",
      "             ...      \n",
      "4995     United-States\n",
      "4996     United-States\n",
      "4997     United-States\n",
      "4998            Mexico\n",
      "4999     United-States\n",
      "Name: native-country, Length: 5000, dtype: object>\n",
      "<bound method IndexOpsMixin.value_counts of 0         >50K\n",
      "1        <=50K\n",
      "2         >50K\n",
      "3         >50K\n",
      "4        <=50K\n",
      "         ...  \n",
      "4995     <=50K\n",
      "4996     <=50K\n",
      "4997     <=50K\n",
      "4998      >50K\n",
      "4999     <=50K\n",
      "Name: Expense, Length: 5000, dtype: object>\n"
     ]
    }
   ],
   "source": [
    "cols = list(df_expenses.select_dtypes(include = np.object).columns)\n",
    "for i in cols:\n",
    "    print(df_expenses[i].value_counts)"
   ]
  },
  {
   "cell_type": "code",
   "execution_count": 13,
   "id": "c471fe89",
   "metadata": {},
   "outputs": [
    {
     "data": {
      "text/plain": [
       " HS-grad         1602\n",
       " Some-college    1142\n",
       " Bachelors        823\n",
       " Masters          259\n",
       " Assoc-voc        214\n",
       " 11th             179\n",
       " Assoc-acdm       157\n",
       " 10th             156\n",
       " 7th-8th          105\n",
       " Prof-school       90\n",
       " 9th               84\n",
       " 12th              57\n",
       " Doctorate         56\n",
       " 5th-6th           46\n",
       " 1st-4th           25\n",
       " Preschool          5\n",
       "Name: education, dtype: int64"
      ]
     },
     "execution_count": 13,
     "metadata": {},
     "output_type": "execute_result"
    }
   ],
   "source": [
    "df_expenses['education'].value_counts()"
   ]
  },
  {
   "cell_type": "code",
   "execution_count": 14,
   "id": "c8aeb866",
   "metadata": {},
   "outputs": [],
   "source": [
    "# frequency encoding is applicable"
   ]
  },
  {
   "cell_type": "code",
   "execution_count": 15,
   "id": "9609e87a",
   "metadata": {},
   "outputs": [],
   "source": [
    "# martial status\n",
    "# fequency encoding is applicable\n",
    "# label encoding is not applicable\n",
    "# target encoding , oone hot encoding"
   ]
  },
  {
   "cell_type": "code",
   "execution_count": 16,
   "id": "4beb53c1",
   "metadata": {},
   "outputs": [],
   "source": [
    "# occupation\n",
    "# feaquency, target , one hot encoding is applicable"
   ]
  },
  {
   "cell_type": "code",
   "execution_count": 17,
   "id": "7c53a907",
   "metadata": {},
   "outputs": [],
   "source": [
    "# relations\n",
    "# one hot, fequency, target enconding is applicable"
   ]
  },
  {
   "cell_type": "code",
   "execution_count": 18,
   "id": "ae6ae939",
   "metadata": {},
   "outputs": [],
   "source": [
    "# race\n",
    "# target, one hot, frequency encoding is applicable"
   ]
  },
  {
   "cell_type": "code",
   "execution_count": 19,
   "id": "7ed2a39c",
   "metadata": {},
   "outputs": [],
   "source": [
    "# country\n",
    "# target encoding is applicable"
   ]
  },
  {
   "cell_type": "code",
   "execution_count": 20,
   "id": "8a975989",
   "metadata": {},
   "outputs": [],
   "source": [
    "# target\n",
    "# manual encoding 0,1"
   ]
  },
  {
   "cell_type": "code",
   "execution_count": 21,
   "id": "f8a4b0f4",
   "metadata": {},
   "outputs": [],
   "source": [
    "# no missing values in dataset but garbage"
   ]
  },
  {
   "cell_type": "code",
   "execution_count": 22,
   "id": "524654b6",
   "metadata": {},
   "outputs": [
    {
     "data": {
      "text/plain": [
       "age                 13.698292\n",
       "education-num        2.558141\n",
       "capital-gain      7579.674371\n",
       "capital-loss       404.168991\n",
       "hours-per-week      12.154191\n",
       "dtype: float64"
      ]
     },
     "execution_count": 22,
     "metadata": {},
     "output_type": "execute_result"
    }
   ],
   "source": [
    "df_expenses.std()"
   ]
  },
  {
   "cell_type": "code",
   "execution_count": 23,
   "id": "e4a7f600",
   "metadata": {},
   "outputs": [
    {
     "data": {
      "application/vnd.jupyter.widget-view+json": {
       "model_id": "8535e998731f40a38b2e51d98f7f7476",
       "version_major": 2,
       "version_minor": 0
      },
      "text/plain": [
       "Summarize dataset:   0%|          | 0/5 [00:00<?, ?it/s]"
      ]
     },
     "metadata": {},
     "output_type": "display_data"
    },
    {
     "data": {
      "application/vnd.jupyter.widget-view+json": {
       "model_id": "ae50214f75d8484baca6d6588a53781c",
       "version_major": 2,
       "version_minor": 0
      },
      "text/plain": [
       "Generate report structure:   0%|          | 0/1 [00:00<?, ?it/s]"
      ]
     },
     "metadata": {},
     "output_type": "display_data"
    },
    {
     "data": {
      "application/vnd.jupyter.widget-view+json": {
       "model_id": "285606f59a824f6cb4592cb98d04bb5b",
       "version_major": 2,
       "version_minor": 0
      },
      "text/plain": [
       "Render HTML:   0%|          | 0/1 [00:00<?, ?it/s]"
      ]
     },
     "metadata": {},
     "output_type": "display_data"
    },
    {
     "data": {
      "application/vnd.jupyter.widget-view+json": {
       "model_id": "e1297f82c3434844bea59593b0bdae7d",
       "version_major": 2,
       "version_minor": 0
      },
      "text/plain": [
       "Export report to file:   0%|          | 0/1 [00:00<?, ?it/s]"
      ]
     },
     "metadata": {},
     "output_type": "display_data"
    }
   ],
   "source": [
    "report = ProfileReport(df_expenses)\n",
    "report.to_file(output_file='Report_Expenses.html')"
   ]
  },
  {
   "cell_type": "code",
   "execution_count": 24,
   "id": "5188e1b2",
   "metadata": {},
   "outputs": [],
   "source": [
    "# missing values\n",
    "df_expenses[df_expenses == ' ?'] = np.nan"
   ]
  },
  {
   "cell_type": "code",
   "execution_count": 25,
   "id": "9ce38249",
   "metadata": {},
   "outputs": [
    {
     "data": {
      "text/plain": [
       "age                 0\n",
       "workclass         320\n",
       "education           0\n",
       "education-num       0\n",
       "marital-status      0\n",
       "occupation        321\n",
       "relationship        0\n",
       "race                0\n",
       "sex                 0\n",
       "capital-gain        0\n",
       "capital-loss        0\n",
       "hours-per-week      0\n",
       "native-country     98\n",
       "Expense             0\n",
       "dtype: int64"
      ]
     },
     "execution_count": 25,
     "metadata": {},
     "output_type": "execute_result"
    }
   ],
   "source": [
    "df_expenses.isnull().sum()"
   ]
  },
  {
   "cell_type": "code",
   "execution_count": 26,
   "id": "ad815e62",
   "metadata": {},
   "outputs": [
    {
     "data": {
      "text/plain": [
       "occupation        6.42\n",
       "workclass         6.40\n",
       "native-country    1.96\n",
       "age               0.00\n",
       "education         0.00\n",
       "education-num     0.00\n",
       "marital-status    0.00\n",
       "relationship      0.00\n",
       "race              0.00\n",
       "sex               0.00\n",
       "capital-gain      0.00\n",
       "capital-loss      0.00\n",
       "hours-per-week    0.00\n",
       "Expense           0.00\n",
       "dtype: float64"
      ]
     },
     "execution_count": 26,
     "metadata": {},
     "output_type": "execute_result"
    }
   ],
   "source": [
    "(df_expenses.isnull().sum()/(df_expenses.index.size)*100).sort_values(ascending=False)"
   ]
  },
  {
   "cell_type": "code",
   "execution_count": 27,
   "id": "889f9b4b",
   "metadata": {},
   "outputs": [],
   "source": [
    "objects = df_expenses.select_dtypes('object').columns"
   ]
  },
  {
   "cell_type": "code",
   "execution_count": 28,
   "id": "3f346f96",
   "metadata": {},
   "outputs": [],
   "source": [
    "num_cols = df_expenses.select_dtypes(include = np.number)"
   ]
  },
  {
   "cell_type": "code",
   "execution_count": 29,
   "id": "1121ffaf",
   "metadata": {},
   "outputs": [
    {
     "data": {
      "text/plain": [
       "Index(['age', 'education-num', 'capital-gain', 'capital-loss',\n",
       "       'hours-per-week'],\n",
       "      dtype='object')"
      ]
     },
     "execution_count": 29,
     "metadata": {},
     "output_type": "execute_result"
    }
   ],
   "source": [
    "num_cols.columns"
   ]
  },
  {
   "cell_type": "code",
   "execution_count": 30,
   "id": "e39d1211",
   "metadata": {},
   "outputs": [],
   "source": [
    "num_cols = num_cols.drop('education-num', axis = 1)"
   ]
  },
  {
   "cell_type": "code",
   "execution_count": 31,
   "id": "15ff72f8",
   "metadata": {},
   "outputs": [
    {
     "data": {
      "text/plain": [
       "Index(['age', 'capital-gain', 'capital-loss', 'hours-per-week'], dtype='object')"
      ]
     },
     "execution_count": 31,
     "metadata": {},
     "output_type": "execute_result"
    }
   ],
   "source": [
    "num_cols.columns"
   ]
  },
  {
   "cell_type": "code",
   "execution_count": 32,
   "id": "a4879d04",
   "metadata": {},
   "outputs": [],
   "source": [
    "from sklearn.impute import SimpleImputer\n",
    "imputer = SimpleImputer(missing_values=np.nan, strategy='most_frequent', verbose=0)\n",
    "\n",
    "# fit in the objects\n",
    "\n",
    "imputer=imputer.fit(df_expenses[objects].loc[:,:])\n",
    "\n",
    "# df_expenses = pd.DataFrame(df_expenses_trans, columns = df_expenses.columns"
   ]
  },
  {
   "cell_type": "code",
   "execution_count": 33,
   "id": "4b5266b9",
   "metadata": {},
   "outputs": [
    {
     "data": {
      "text/plain": [
       "SimpleImputer(strategy='most_frequent')"
      ]
     },
     "execution_count": 33,
     "metadata": {},
     "output_type": "execute_result"
    }
   ],
   "source": [
    "imputer"
   ]
  },
  {
   "cell_type": "code",
   "execution_count": 34,
   "id": "23e400af",
   "metadata": {},
   "outputs": [
    {
     "data": {
      "image/png": "[encoded data removed]",
      "text/plain": [
       "<Figure size 1080x1080 with 4 Axes>"
      ]
     },
     "metadata": {
      "needs_background": "light"
     },
     "output_type": "display_data"
    }
   ],
   "source": [
    "fig, ax=plt.subplots(2,2,figsize=(15,15))\n",
    "for var, subplot in zip(num_cols.columns,ax.flatten()):\n",
    "    sns.boxplot(num_cols[var],ax=subplot)\n",
    "    plt.title(var)\n",
    "plt.tight_layout\n",
    "plt.show()"
   ]
  },
  {
   "cell_type": "code",
   "execution_count": 35,
   "id": "b465f1e5",
   "metadata": {},
   "outputs": [
    {
     "data": {
      "text/plain": [
       "array([' >50K', ' <=50K'], dtype=object)"
      ]
     },
     "execution_count": 35,
     "metadata": {},
     "output_type": "execute_result"
    }
   ],
   "source": [
    "# target distibuted \n",
    "df_expenses['Expense'].unique()"
   ]
  },
  {
   "cell_type": "code",
   "execution_count": 36,
   "id": "50944e40",
   "metadata": {},
   "outputs": [],
   "source": [
    "df_expenses['Expense'] = df_expenses['Expense'].map({' <=50K':0, ' >50K':1})"
   ]
  },
  {
   "cell_type": "code",
   "execution_count": 37,
   "id": "bc2df1ae",
   "metadata": {
    "scrolled": false
   },
   "outputs": [
    {
     "data": {
      "text/plain": [
       "0    75.52\n",
       "1    24.48\n",
       "Name: Expense, dtype: float64"
      ]
     },
     "execution_count": 37,
     "metadata": {},
     "output_type": "execute_result"
    }
   ],
   "source": [
    "df_expenses['Expense'].value_counts(normalize=True)*100"
   ]
  },
  {
   "cell_type": "code",
   "execution_count": 38,
   "id": "c6c3c0a2",
   "metadata": {},
   "outputs": [],
   "source": [
    "# correlation matrix for numeric data"
   ]
  },
  {
   "cell_type": "code",
   "execution_count": 39,
   "id": "9fc9be92",
   "metadata": {},
   "outputs": [
    {
     "data": {
      "image/png": "[encoded data removed]",
      "text/plain": [
       "<Figure size 720x360 with 2 Axes>"
      ]
     },
     "metadata": {
      "needs_background": "light"
     },
     "output_type": "display_data"
    }
   ],
   "source": [
    "plt.figure(figsize=(10,5))\n",
    "sns.set(font_scale=1)\n",
    "sns.heatmap(num_cols.corr(),\n",
    "            cmap='plasma',\n",
    "            vmax=1.0,\n",
    "            vmin=-1.0,\n",
    "            annot = True,\n",
    "            annot_kws={\"size\": 18})\n",
    "plt.show()"
   ]
  },
  {
   "cell_type": "code",
   "execution_count": 40,
   "id": "64b80242",
   "metadata": {},
   "outputs": [
    {
     "data": {
      "text/plain": [
       "Index(['workclass', 'education', 'marital-status', 'occupation',\n",
       "       'relationship', 'race', 'sex', 'native-country'],\n",
       "      dtype='object')"
      ]
     },
     "execution_count": 40,
     "metadata": {},
     "output_type": "execute_result"
    }
   ],
   "source": [
    "cat_columns = df_expenses.select_dtypes(object).columns\n",
    "cat_columns"
   ]
  },
  {
   "cell_type": "code",
   "execution_count": 41,
   "id": "9cf8aace",
   "metadata": {},
   "outputs": [],
   "source": [
    "# encoding of categorical variables"
   ]
  },
  {
   "cell_type": "code",
   "execution_count": 42,
   "id": "794064f2",
   "metadata": {},
   "outputs": [],
   "source": [
    "# WOE - weight of evidence -  it is based on the target variable"
   ]
  },
  {
   "cell_type": "code",
   "execution_count": 43,
   "id": "ec5f3cf5",
   "metadata": {},
   "outputs": [],
   "source": [
    "encoder = ce.WOEEncoder(cols = cat_columns)\n",
    "encoder_data = encoder.fit_transform(df_expenses[cat_columns], df_expenses['Expense'])"
   ]
  },
  {
   "cell_type": "code",
   "execution_count": 44,
   "id": "03b66a12",
   "metadata": {},
   "outputs": [
    {
     "data": {
      "text/html": [
       "<div>\n",
       "<style scoped>\n",
       "    .dataframe tbody tr th:only-of-type {\n",
       "        vertical-align: middle;\n",
       "    }\n",
       "\n",
       "    .dataframe tbody tr th {\n",
       "        vertical-align: top;\n",
       "    }\n",
       "\n",
       "    .dataframe thead th {\n",
       "        text-align: right;\n",
       "    }\n",
       "</style>\n",
       "<table border=\"1\" class=\"dataframe\">\n",
       "  <thead>\n",
       "    <tr style=\"text-align: right;\">\n",
       "      <th></th>\n",
       "      <th>workclass</th>\n",
       "      <th>education</th>\n",
       "      <th>marital-status</th>\n",
       "      <th>occupation</th>\n",
       "      <th>relationship</th>\n",
       "      <th>race</th>\n",
       "      <th>sex</th>\n",
       "      <th>native-country</th>\n",
       "    </tr>\n",
       "  </thead>\n",
       "  <tbody>\n",
       "    <tr>\n",
       "      <th>0</th>\n",
       "      <td>1.539872</td>\n",
       "      <td>0.725021</td>\n",
       "      <td>0.968321</td>\n",
       "      <td>1.037001</td>\n",
       "      <td>0.937510</td>\n",
       "      <td>0.085567</td>\n",
       "      <td>0.302285</td>\n",
       "      <td>0.020539</td>\n",
       "    </tr>\n",
       "    <tr>\n",
       "      <th>1</th>\n",
       "      <td>-0.103603</td>\n",
       "      <td>-0.384527</td>\n",
       "      <td>-1.902022</td>\n",
       "      <td>-1.934122</td>\n",
       "      <td>-3.146165</td>\n",
       "      <td>0.085567</td>\n",
       "      <td>0.302285</td>\n",
       "      <td>0.020539</td>\n",
       "    </tr>\n",
       "    <tr>\n",
       "      <th>2</th>\n",
       "      <td>-0.103603</td>\n",
       "      <td>2.367151</td>\n",
       "      <td>0.968321</td>\n",
       "      <td>0.980256</td>\n",
       "      <td>0.937510</td>\n",
       "      <td>0.085567</td>\n",
       "      <td>0.302285</td>\n",
       "      <td>0.020539</td>\n",
       "    </tr>\n",
       "    <tr>\n",
       "      <th>3</th>\n",
       "      <td>0.149164</td>\n",
       "      <td>-0.368765</td>\n",
       "      <td>0.968321</td>\n",
       "      <td>0.980256</td>\n",
       "      <td>1.289741</td>\n",
       "      <td>0.085567</td>\n",
       "      <td>-0.863275</td>\n",
       "      <td>0.020539</td>\n",
       "    </tr>\n",
       "    <tr>\n",
       "      <th>4</th>\n",
       "      <td>0.124464</td>\n",
       "      <td>0.725021</td>\n",
       "      <td>-1.902022</td>\n",
       "      <td>0.980256</td>\n",
       "      <td>-3.146165</td>\n",
       "      <td>0.085567</td>\n",
       "      <td>-0.863275</td>\n",
       "      <td>0.020539</td>\n",
       "    </tr>\n",
       "    <tr>\n",
       "      <th>...</th>\n",
       "      <td>...</td>\n",
       "      <td>...</td>\n",
       "      <td>...</td>\n",
       "      <td>...</td>\n",
       "      <td>...</td>\n",
       "      <td>...</td>\n",
       "      <td>...</td>\n",
       "      <td>...</td>\n",
       "    </tr>\n",
       "    <tr>\n",
       "      <th>4995</th>\n",
       "      <td>-0.103603</td>\n",
       "      <td>-0.368765</td>\n",
       "      <td>0.968321</td>\n",
       "      <td>-0.677132</td>\n",
       "      <td>0.937510</td>\n",
       "      <td>0.085567</td>\n",
       "      <td>0.302285</td>\n",
       "      <td>0.020539</td>\n",
       "    </tr>\n",
       "    <tr>\n",
       "      <th>4996</th>\n",
       "      <td>-0.103603</td>\n",
       "      <td>-0.384527</td>\n",
       "      <td>-1.902022</td>\n",
       "      <td>0.527601</td>\n",
       "      <td>-3.146165</td>\n",
       "      <td>0.085567</td>\n",
       "      <td>-0.863275</td>\n",
       "      <td>0.020539</td>\n",
       "    </tr>\n",
       "    <tr>\n",
       "      <th>4997</th>\n",
       "      <td>-0.103603</td>\n",
       "      <td>-1.519554</td>\n",
       "      <td>-1.902022</td>\n",
       "      <td>-0.155496</td>\n",
       "      <td>-3.146165</td>\n",
       "      <td>0.085567</td>\n",
       "      <td>0.302285</td>\n",
       "      <td>0.020539</td>\n",
       "    </tr>\n",
       "    <tr>\n",
       "      <th>4998</th>\n",
       "      <td>-0.103603</td>\n",
       "      <td>-0.368765</td>\n",
       "      <td>0.968321</td>\n",
       "      <td>-0.007220</td>\n",
       "      <td>0.937510</td>\n",
       "      <td>0.085567</td>\n",
       "      <td>0.302285</td>\n",
       "      <td>-1.503363</td>\n",
       "    </tr>\n",
       "    <tr>\n",
       "      <th>4999</th>\n",
       "      <td>-0.103603</td>\n",
       "      <td>-0.368765</td>\n",
       "      <td>-1.113013</td>\n",
       "      <td>-0.007220</td>\n",
       "      <td>-1.057800</td>\n",
       "      <td>0.085567</td>\n",
       "      <td>0.302285</td>\n",
       "      <td>0.020539</td>\n",
       "    </tr>\n",
       "  </tbody>\n",
       "</table>\n",
       "<p>5000 rows × 8 columns</p>\n",
       "</div>"
      ],
      "text/plain": [
       "      workclass  education  marital-status  occupation  relationship  \\\n",
       "0      1.539872   0.725021        0.968321    1.037001      0.937510   \n",
       "1     -0.103603  -0.384527       -1.902022   -1.934122     -3.146165   \n",
       "2     -0.103603   2.367151        0.968321    0.980256      0.937510   \n",
       "3      0.149164  -0.368765        0.968321    0.980256      1.289741   \n",
       "4      0.124464   0.725021       -1.902022    0.980256     -3.146165   \n",
       "...         ...        ...             ...         ...           ...   \n",
       "4995  -0.103603  -0.368765        0.968321   -0.677132      0.937510   \n",
       "4996  -0.103603  -0.384527       -1.902022    0.527601     -3.146165   \n",
       "4997  -0.103603  -1.519554       -1.902022   -0.155496     -3.146165   \n",
       "4998  -0.103603  -0.368765        0.968321   -0.007220      0.937510   \n",
       "4999  -0.103603  -0.368765       -1.113013   -0.007220     -1.057800   \n",
       "\n",
       "          race       sex  native-country  \n",
       "0     0.085567  0.302285        0.020539  \n",
       "1     0.085567  0.302285        0.020539  \n",
       "2     0.085567  0.302285        0.020539  \n",
       "3     0.085567 -0.863275        0.020539  \n",
       "4     0.085567 -0.863275        0.020539  \n",
       "...        ...       ...             ...  \n",
       "4995  0.085567  0.302285        0.020539  \n",
       "4996  0.085567 -0.863275        0.020539  \n",
       "4997  0.085567  0.302285        0.020539  \n",
       "4998  0.085567  0.302285       -1.503363  \n",
       "4999  0.085567  0.302285        0.020539  \n",
       "\n",
       "[5000 rows x 8 columns]"
      ]
     },
     "execution_count": 44,
     "metadata": {},
     "output_type": "execute_result"
    }
   ],
   "source": [
    "encoder_data"
   ]
  },
  {
   "cell_type": "code",
   "execution_count": 45,
   "id": "bb90d53b",
   "metadata": {},
   "outputs": [
    {
     "data": {
      "text/plain": [
       "Index(['age', 'education-num', 'capital-gain', 'capital-loss',\n",
       "       'hours-per-week', 'Expense'],\n",
       "      dtype='object')"
      ]
     },
     "execution_count": 45,
     "metadata": {},
     "output_type": "execute_result"
    }
   ],
   "source": [
    "num_cols = df_expenses.select_dtypes(int).columns\n",
    "num_cols"
   ]
  },
  {
   "cell_type": "code",
   "execution_count": 46,
   "id": "b82ca961",
   "metadata": {},
   "outputs": [
    {
     "data": {
      "text/html": [
       "<div>\n",
       "<style scoped>\n",
       "    .dataframe tbody tr th:only-of-type {\n",
       "        vertical-align: middle;\n",
       "    }\n",
       "\n",
       "    .dataframe tbody tr th {\n",
       "        vertical-align: top;\n",
       "    }\n",
       "\n",
       "    .dataframe thead th {\n",
       "        text-align: right;\n",
       "    }\n",
       "</style>\n",
       "<table border=\"1\" class=\"dataframe\">\n",
       "  <thead>\n",
       "    <tr style=\"text-align: right;\">\n",
       "      <th></th>\n",
       "      <th>age</th>\n",
       "      <th>education-num</th>\n",
       "      <th>capital-gain</th>\n",
       "      <th>capital-loss</th>\n",
       "      <th>hours-per-week</th>\n",
       "      <th>Expense</th>\n",
       "      <th>workclass</th>\n",
       "      <th>education</th>\n",
       "      <th>marital-status</th>\n",
       "      <th>occupation</th>\n",
       "      <th>relationship</th>\n",
       "      <th>race</th>\n",
       "      <th>sex</th>\n",
       "      <th>native-country</th>\n",
       "    </tr>\n",
       "  </thead>\n",
       "  <tbody>\n",
       "    <tr>\n",
       "      <th>0</th>\n",
       "      <td>39</td>\n",
       "      <td>13</td>\n",
       "      <td>15024</td>\n",
       "      <td>0</td>\n",
       "      <td>50</td>\n",
       "      <td>1</td>\n",
       "      <td>1.539872</td>\n",
       "      <td>0.725021</td>\n",
       "      <td>0.968321</td>\n",
       "      <td>1.037001</td>\n",
       "      <td>0.937510</td>\n",
       "      <td>0.085567</td>\n",
       "      <td>0.302285</td>\n",
       "      <td>0.020539</td>\n",
       "    </tr>\n",
       "    <tr>\n",
       "      <th>1</th>\n",
       "      <td>20</td>\n",
       "      <td>10</td>\n",
       "      <td>0</td>\n",
       "      <td>0</td>\n",
       "      <td>40</td>\n",
       "      <td>0</td>\n",
       "      <td>-0.103603</td>\n",
       "      <td>-0.384527</td>\n",
       "      <td>-1.902022</td>\n",
       "      <td>-1.934122</td>\n",
       "      <td>-3.146165</td>\n",
       "      <td>0.085567</td>\n",
       "      <td>0.302285</td>\n",
       "      <td>0.020539</td>\n",
       "    </tr>\n",
       "    <tr>\n",
       "      <th>2</th>\n",
       "      <td>50</td>\n",
       "      <td>16</td>\n",
       "      <td>0</td>\n",
       "      <td>1902</td>\n",
       "      <td>65</td>\n",
       "      <td>1</td>\n",
       "      <td>-0.103603</td>\n",
       "      <td>2.367151</td>\n",
       "      <td>0.968321</td>\n",
       "      <td>0.980256</td>\n",
       "      <td>0.937510</td>\n",
       "      <td>0.085567</td>\n",
       "      <td>0.302285</td>\n",
       "      <td>0.020539</td>\n",
       "    </tr>\n",
       "    <tr>\n",
       "      <th>3</th>\n",
       "      <td>38</td>\n",
       "      <td>9</td>\n",
       "      <td>0</td>\n",
       "      <td>0</td>\n",
       "      <td>40</td>\n",
       "      <td>1</td>\n",
       "      <td>0.149164</td>\n",
       "      <td>-0.368765</td>\n",
       "      <td>0.968321</td>\n",
       "      <td>0.980256</td>\n",
       "      <td>1.289741</td>\n",
       "      <td>0.085567</td>\n",
       "      <td>-0.863275</td>\n",
       "      <td>0.020539</td>\n",
       "    </tr>\n",
       "    <tr>\n",
       "      <th>4</th>\n",
       "      <td>23</td>\n",
       "      <td>13</td>\n",
       "      <td>0</td>\n",
       "      <td>0</td>\n",
       "      <td>60</td>\n",
       "      <td>0</td>\n",
       "      <td>0.124464</td>\n",
       "      <td>0.725021</td>\n",
       "      <td>-1.902022</td>\n",
       "      <td>0.980256</td>\n",
       "      <td>-3.146165</td>\n",
       "      <td>0.085567</td>\n",
       "      <td>-0.863275</td>\n",
       "      <td>0.020539</td>\n",
       "    </tr>\n",
       "  </tbody>\n",
       "</table>\n",
       "</div>"
      ],
      "text/plain": [
       "   age  education-num  capital-gain  capital-loss  hours-per-week  Expense  \\\n",
       "0   39             13         15024             0              50        1   \n",
       "1   20             10             0             0              40        0   \n",
       "2   50             16             0          1902              65        1   \n",
       "3   38              9             0             0              40        1   \n",
       "4   23             13             0             0              60        0   \n",
       "\n",
       "   workclass  education  marital-status  occupation  relationship      race  \\\n",
       "0   1.539872   0.725021        0.968321    1.037001      0.937510  0.085567   \n",
       "1  -0.103603  -0.384527       -1.902022   -1.934122     -3.146165  0.085567   \n",
       "2  -0.103603   2.367151        0.968321    0.980256      0.937510  0.085567   \n",
       "3   0.149164  -0.368765        0.968321    0.980256      1.289741  0.085567   \n",
       "4   0.124464   0.725021       -1.902022    0.980256     -3.146165  0.085567   \n",
       "\n",
       "        sex  native-country  \n",
       "0  0.302285        0.020539  \n",
       "1  0.302285        0.020539  \n",
       "2  0.302285        0.020539  \n",
       "3 -0.863275        0.020539  \n",
       "4 -0.863275        0.020539  "
      ]
     },
     "execution_count": 46,
     "metadata": {},
     "output_type": "execute_result"
    }
   ],
   "source": [
    "df_salary = pd.concat([pd.DataFrame(df_expenses[num_cols]), encoder_data], axis=1)\n",
    "df_salary.head()"
   ]
  },
  {
   "cell_type": "code",
   "execution_count": 47,
   "id": "64ea0671",
   "metadata": {},
   "outputs": [],
   "source": [
    "# model with KNN and neural network requires scaling, we are not using this so we are not scaling the data"
   ]
  },
  {
   "cell_type": "code",
   "execution_count": 48,
   "id": "838b1af2",
   "metadata": {},
   "outputs": [
    {
     "name": "stdout",
     "output_type": "stream",
     "text": [
      "<class 'pandas.core.frame.DataFrame'>\n",
      "RangeIndex: 5000 entries, 0 to 4999\n",
      "Data columns (total 14 columns):\n",
      " #   Column          Non-Null Count  Dtype  \n",
      "---  ------          --------------  -----  \n",
      " 0   age             5000 non-null   int64  \n",
      " 1   education-num   5000 non-null   int64  \n",
      " 2   capital-gain    5000 non-null   int64  \n",
      " 3   capital-loss    5000 non-null   int64  \n",
      " 4   hours-per-week  5000 non-null   int64  \n",
      " 5   Expense         5000 non-null   int64  \n",
      " 6   workclass       5000 non-null   float64\n",
      " 7   education       5000 non-null   float64\n",
      " 8   marital-status  5000 non-null   float64\n",
      " 9   occupation      5000 non-null   float64\n",
      " 10  relationship    5000 non-null   float64\n",
      " 11  race            5000 non-null   float64\n",
      " 12  sex             5000 non-null   float64\n",
      " 13  native-country  5000 non-null   float64\n",
      "dtypes: float64(8), int64(6)\n",
      "memory usage: 547.0 KB\n"
     ]
    }
   ],
   "source": [
    "df_salary.info()"
   ]
  },
  {
   "cell_type": "code",
   "execution_count": 49,
   "id": "63d2ab0e",
   "metadata": {},
   "outputs": [],
   "source": [
    "# building the models now"
   ]
  },
  {
   "cell_type": "code",
   "execution_count": 50,
   "id": "1ea61e60",
   "metadata": {},
   "outputs": [],
   "source": [
    "Y=df_salary.Expense\n",
    "X=df_salary[['age','sex',\n",
    "               'capital-gain','capital-loss', 'hours-per-week',\n",
    "               'native-country','occupation', 'workclass',\n",
    "               'relationship','race', 'marital-status', 'education']]           "
   ]
  },
  {
   "cell_type": "code",
   "execution_count": 51,
   "id": "795a6451",
   "metadata": {},
   "outputs": [],
   "source": [
    "x_train, x_test, y_train, y_test = train_test_split(X, Y, test_size=0.30, stratify= Y, random_state=0)"
   ]
  },
  {
   "cell_type": "code",
   "execution_count": 52,
   "id": "5fef1a38",
   "metadata": {},
   "outputs": [
    {
     "data": {
      "text/plain": [
       "((3500, 12), (1500, 12), (3500,), (1500,))"
      ]
     },
     "execution_count": 52,
     "metadata": {},
     "output_type": "execute_result"
    }
   ],
   "source": [
    "x_train.shape, x_test.shape, y_train.shape, y_test.shape"
   ]
  },
  {
   "cell_type": "code",
   "execution_count": 53,
   "id": "6f166c71",
   "metadata": {},
   "outputs": [
    {
     "data": {
      "text/plain": [
       "array([0, 1, 0, ..., 0, 0, 0], dtype=int64)"
      ]
     },
     "execution_count": 53,
     "metadata": {},
     "output_type": "execute_result"
    }
   ],
   "source": [
    "# logistic regression\n",
    "\n",
    "lr = LogisticRegression()\n",
    "lr.fit(x_train, y_train)\n",
    "y_pred_lr_train = lr.predict(x_train)\n",
    "y_pred_lr = lr.predict(x_test)\n",
    "y_pred_lr"
   ]
  },
  {
   "cell_type": "code",
   "execution_count": 54,
   "id": "2671334b",
   "metadata": {},
   "outputs": [
    {
     "name": "stdout",
     "output_type": "stream",
     "text": [
      "accuracy_score 0.8426666666666667\n",
      "confusion metric\n",
      "[[1061   72]\n",
      " [ 164  203]]\n",
      "classification report\n",
      "              precision    recall  f1-score   support\n",
      "\n",
      "           0       0.87      0.94      0.90      1133\n",
      "           1       0.74      0.55      0.63       367\n",
      "\n",
      "    accuracy                           0.84      1500\n",
      "   macro avg       0.80      0.74      0.77      1500\n",
      "weighted avg       0.83      0.84      0.83      1500\n",
      "\n"
     ]
    }
   ],
   "source": [
    "print('accuracy_score', accuracy_score(y_test, y_pred_lr))\n",
    "print('confusion metric')\n",
    "print(confusion_matrix(y_test, y_pred_lr))\n",
    "print('classification report')\n",
    "print(classification_report(y_test, y_pred_lr))"
   ]
  },
  {
   "cell_type": "code",
   "execution_count": 55,
   "id": "e20867fd",
   "metadata": {},
   "outputs": [],
   "source": [
    "# recall is actual\n",
    "# precision is predicted\n",
    "# f1 is harmonic mean of 2 time the recall and precision, mathematical function"
   ]
  },
  {
   "cell_type": "code",
   "execution_count": 56,
   "id": "4c8f0dd8",
   "metadata": {},
   "outputs": [],
   "source": [
    "\n",
    "\n",
    "perf_score = pd.DataFrame(columns=[\"Model\", \"Accuracy\",\"Recall\",\"Precision\",\"F1 Score\"] )\n",
    "def per_measures(model,test,pred):\n",
    "    accuracy    =accuracy_score(test,pred)\n",
    "    f1score     = f1_score(test,pred)\n",
    "    recall      =recall_score(test,pred)\n",
    "    precision   =precision_score(test,pred)\n",
    "  # aic         =model.aic\n",
    "  # reliability = cohen_kappa_score(test,pred)\n",
    "    return (accuracy,recall,precision,f1score,)\n",
    "  \n",
    "def update_performance (name,\n",
    "                        model,\n",
    "                        test,\n",
    "                        pred\n",
    "                           ):\n",
    "\n",
    "    # assign 'comp_perf' as global variable\n",
    "    global perf_score\n",
    "\n",
    "\n",
    "    # append the results to the dataframe 'score_card'\n",
    "    # 'ignore_index = True' do not consider the index labels\n",
    "    perf_score = perf_score.append({'Model'       : name,\n",
    "                                    'Accuracy'    : per_measures(model,test,pred)[0],\n",
    "                                    'Recall'      : per_measures(model,test,pred)[1],\n",
    "                                    'Precision'   : per_measures(model,test,pred)[2],\n",
    "                                    'F1 Score'    : per_measures(model,test,pred)[3]\n",
    "                                    # 'AIC'         : per_measures(model,ytest,ypred)[4],\n",
    "                                    # 'Reliability' : per_measures(model,ytest,ypred)[5]\n",
    "\n",
    "                                     },\n",
    "                                   ignore_index = True)"
   ]
  },
  {
   "cell_type": "code",
   "execution_count": 57,
   "id": "6e9adc6c",
   "metadata": {},
   "outputs": [],
   "source": [
    "update_performance(name = 'Logisticreg-skl', model = lr, test = y_test , pred=y_pred_lr)"
   ]
  },
  {
   "cell_type": "code",
   "execution_count": 58,
   "id": "9654eaa9",
   "metadata": {},
   "outputs": [
    {
     "data": {
      "text/html": [
       "<div>\n",
       "<style scoped>\n",
       "    .dataframe tbody tr th:only-of-type {\n",
       "        vertical-align: middle;\n",
       "    }\n",
       "\n",
       "    .dataframe tbody tr th {\n",
       "        vertical-align: top;\n",
       "    }\n",
       "\n",
       "    .dataframe thead th {\n",
       "        text-align: right;\n",
       "    }\n",
       "</style>\n",
       "<table border=\"1\" class=\"dataframe\">\n",
       "  <thead>\n",
       "    <tr style=\"text-align: right;\">\n",
       "      <th></th>\n",
       "      <th>Model</th>\n",
       "      <th>Accuracy</th>\n",
       "      <th>Recall</th>\n",
       "      <th>Precision</th>\n",
       "      <th>F1 Score</th>\n",
       "    </tr>\n",
       "  </thead>\n",
       "  <tbody>\n",
       "    <tr>\n",
       "      <th>0</th>\n",
       "      <td>Logisticreg-skl</td>\n",
       "      <td>0.842667</td>\n",
       "      <td>0.553134</td>\n",
       "      <td>0.738182</td>\n",
       "      <td>0.632399</td>\n",
       "    </tr>\n",
       "  </tbody>\n",
       "</table>\n",
       "</div>"
      ],
      "text/plain": [
       "             Model  Accuracy    Recall Precision  F1 Score\n",
       "0  Logisticreg-skl  0.842667  0.553134  0.738182  0.632399"
      ]
     },
     "execution_count": 58,
     "metadata": {},
     "output_type": "execute_result"
    }
   ],
   "source": [
    "perf_score"
   ]
  },
  {
   "cell_type": "code",
   "execution_count": 59,
   "id": "accaa854",
   "metadata": {},
   "outputs": [],
   "source": [
    "# naive bayes\n",
    "\n",
    "gnb = GaussianNB()"
   ]
  },
  {
   "cell_type": "code",
   "execution_count": 60,
   "id": "8dc9093a",
   "metadata": {},
   "outputs": [
    {
     "data": {
      "text/plain": [
       "array([0, 1, 0, ..., 0, 0, 0], dtype=int64)"
      ]
     },
     "execution_count": 60,
     "metadata": {},
     "output_type": "execute_result"
    }
   ],
   "source": [
    "gnb.fit(x_train, y_train)\n",
    "y_pred_gnb_train = gnb.predict(x_train)\n",
    "y_pred_gnb = gnb.predict(x_test)\n",
    "y_pred_gnb"
   ]
  },
  {
   "cell_type": "code",
   "execution_count": 61,
   "id": "fb307309",
   "metadata": {},
   "outputs": [
    {
     "data": {
      "text/html": [
       "<div>\n",
       "<style scoped>\n",
       "    .dataframe tbody tr th:only-of-type {\n",
       "        vertical-align: middle;\n",
       "    }\n",
       "\n",
       "    .dataframe tbody tr th {\n",
       "        vertical-align: top;\n",
       "    }\n",
       "\n",
       "    .dataframe thead th {\n",
       "        text-align: right;\n",
       "    }\n",
       "</style>\n",
       "<table border=\"1\" class=\"dataframe\">\n",
       "  <thead>\n",
       "    <tr style=\"text-align: right;\">\n",
       "      <th></th>\n",
       "      <th>Model</th>\n",
       "      <th>Accuracy</th>\n",
       "      <th>Recall</th>\n",
       "      <th>Precision</th>\n",
       "      <th>F1 Score</th>\n",
       "    </tr>\n",
       "  </thead>\n",
       "  <tbody>\n",
       "    <tr>\n",
       "      <th>0</th>\n",
       "      <td>Logisticreg-skl</td>\n",
       "      <td>0.842667</td>\n",
       "      <td>0.553134</td>\n",
       "      <td>0.738182</td>\n",
       "      <td>0.632399</td>\n",
       "    </tr>\n",
       "    <tr>\n",
       "      <th>1</th>\n",
       "      <td>GNB</td>\n",
       "      <td>0.823333</td>\n",
       "      <td>0.517711</td>\n",
       "      <td>0.683453</td>\n",
       "      <td>0.589147</td>\n",
       "    </tr>\n",
       "  </tbody>\n",
       "</table>\n",
       "</div>"
      ],
      "text/plain": [
       "             Model  Accuracy    Recall Precision  F1 Score\n",
       "0  Logisticreg-skl  0.842667  0.553134  0.738182  0.632399\n",
       "1              GNB  0.823333  0.517711  0.683453  0.589147"
      ]
     },
     "execution_count": 61,
     "metadata": {},
     "output_type": "execute_result"
    }
   ],
   "source": [
    "update_performance(name = 'GNB', model = gnb, test = y_test , pred=y_pred_gnb)\n",
    "perf_score"
   ]
  },
  {
   "cell_type": "code",
   "execution_count": 62,
   "id": "1a7d12a0",
   "metadata": {},
   "outputs": [],
   "source": [
    "# bernouli NB"
   ]
  },
  {
   "cell_type": "code",
   "execution_count": 63,
   "id": "eca38d19",
   "metadata": {},
   "outputs": [],
   "source": [
    "bnb = BernoulliNB()"
   ]
  },
  {
   "cell_type": "code",
   "execution_count": 64,
   "id": "c78a6514",
   "metadata": {},
   "outputs": [
    {
     "data": {
      "text/plain": [
       "array([0, 1, 0, ..., 1, 0, 1], dtype=int64)"
      ]
     },
     "execution_count": 64,
     "metadata": {},
     "output_type": "execute_result"
    }
   ],
   "source": [
    "bnb.fit(x_train, y_train)\n",
    "y_pred_bnb_train = bnb.predict(x_train)\n",
    "y_pred_bnb = bnb.predict(x_test)\n",
    "y_pred_bnb"
   ]
  },
  {
   "cell_type": "code",
   "execution_count": 65,
   "id": "d4509969",
   "metadata": {},
   "outputs": [
    {
     "data": {
      "text/html": [
       "<div>\n",
       "<style scoped>\n",
       "    .dataframe tbody tr th:only-of-type {\n",
       "        vertical-align: middle;\n",
       "    }\n",
       "\n",
       "    .dataframe tbody tr th {\n",
       "        vertical-align: top;\n",
       "    }\n",
       "\n",
       "    .dataframe thead th {\n",
       "        text-align: right;\n",
       "    }\n",
       "</style>\n",
       "<table border=\"1\" class=\"dataframe\">\n",
       "  <thead>\n",
       "    <tr style=\"text-align: right;\">\n",
       "      <th></th>\n",
       "      <th>Model</th>\n",
       "      <th>Accuracy</th>\n",
       "      <th>Recall</th>\n",
       "      <th>Precision</th>\n",
       "      <th>F1 Score</th>\n",
       "    </tr>\n",
       "  </thead>\n",
       "  <tbody>\n",
       "    <tr>\n",
       "      <th>0</th>\n",
       "      <td>Logisticreg-skl</td>\n",
       "      <td>0.842667</td>\n",
       "      <td>0.553134</td>\n",
       "      <td>0.738182</td>\n",
       "      <td>0.632399</td>\n",
       "    </tr>\n",
       "    <tr>\n",
       "      <th>1</th>\n",
       "      <td>GNB</td>\n",
       "      <td>0.823333</td>\n",
       "      <td>0.517711</td>\n",
       "      <td>0.683453</td>\n",
       "      <td>0.589147</td>\n",
       "    </tr>\n",
       "    <tr>\n",
       "      <th>2</th>\n",
       "      <td>BNB</td>\n",
       "      <td>0.801333</td>\n",
       "      <td>0.673025</td>\n",
       "      <td>0.581176</td>\n",
       "      <td>0.623737</td>\n",
       "    </tr>\n",
       "  </tbody>\n",
       "</table>\n",
       "</div>"
      ],
      "text/plain": [
       "             Model  Accuracy    Recall Precision  F1 Score\n",
       "0  Logisticreg-skl  0.842667  0.553134  0.738182  0.632399\n",
       "1              GNB  0.823333  0.517711  0.683453  0.589147\n",
       "2              BNB  0.801333  0.673025  0.581176  0.623737"
      ]
     },
     "execution_count": 65,
     "metadata": {},
     "output_type": "execute_result"
    }
   ],
   "source": [
    "update_performance(name = 'BNB', model = bnb, test = y_test , pred=y_pred_bnb)\n",
    "perf_score"
   ]
  },
  {
   "cell_type": "code",
   "execution_count": 66,
   "id": "3b435ba7",
   "metadata": {},
   "outputs": [
    {
     "data": {
      "text/plain": [
       "array([0, 1, 0, ..., 1, 0, 1], dtype=int64)"
      ]
     },
     "execution_count": 66,
     "metadata": {},
     "output_type": "execute_result"
    }
   ],
   "source": [
    "dt = DecisionTreeClassifier()\n",
    "dt.fit(x_train, y_train)\n",
    "y_pred_dt_train = bnb.predict(x_train)\n",
    "y_pred_dt = bnb.predict(x_test)\n",
    "y_pred_dt"
   ]
  },
  {
   "cell_type": "code",
   "execution_count": 67,
   "id": "2edeba65",
   "metadata": {},
   "outputs": [
    {
     "data": {
      "text/html": [
       "<div>\n",
       "<style scoped>\n",
       "    .dataframe tbody tr th:only-of-type {\n",
       "        vertical-align: middle;\n",
       "    }\n",
       "\n",
       "    .dataframe tbody tr th {\n",
       "        vertical-align: top;\n",
       "    }\n",
       "\n",
       "    .dataframe thead th {\n",
       "        text-align: right;\n",
       "    }\n",
       "</style>\n",
       "<table border=\"1\" class=\"dataframe\">\n",
       "  <thead>\n",
       "    <tr style=\"text-align: right;\">\n",
       "      <th></th>\n",
       "      <th>Model</th>\n",
       "      <th>Accuracy</th>\n",
       "      <th>Recall</th>\n",
       "      <th>Precision</th>\n",
       "      <th>F1 Score</th>\n",
       "    </tr>\n",
       "  </thead>\n",
       "  <tbody>\n",
       "    <tr>\n",
       "      <th>0</th>\n",
       "      <td>Logisticreg-skl</td>\n",
       "      <td>0.842667</td>\n",
       "      <td>0.553134</td>\n",
       "      <td>0.738182</td>\n",
       "      <td>0.632399</td>\n",
       "    </tr>\n",
       "    <tr>\n",
       "      <th>1</th>\n",
       "      <td>GNB</td>\n",
       "      <td>0.823333</td>\n",
       "      <td>0.517711</td>\n",
       "      <td>0.683453</td>\n",
       "      <td>0.589147</td>\n",
       "    </tr>\n",
       "    <tr>\n",
       "      <th>2</th>\n",
       "      <td>BNB</td>\n",
       "      <td>0.801333</td>\n",
       "      <td>0.673025</td>\n",
       "      <td>0.581176</td>\n",
       "      <td>0.623737</td>\n",
       "    </tr>\n",
       "    <tr>\n",
       "      <th>3</th>\n",
       "      <td>Decision Tree</td>\n",
       "      <td>0.801333</td>\n",
       "      <td>0.673025</td>\n",
       "      <td>0.581176</td>\n",
       "      <td>0.623737</td>\n",
       "    </tr>\n",
       "  </tbody>\n",
       "</table>\n",
       "</div>"
      ],
      "text/plain": [
       "             Model  Accuracy    Recall Precision  F1 Score\n",
       "0  Logisticreg-skl  0.842667  0.553134  0.738182  0.632399\n",
       "1              GNB  0.823333  0.517711  0.683453  0.589147\n",
       "2              BNB  0.801333  0.673025  0.581176  0.623737\n",
       "3    Decision Tree  0.801333  0.673025  0.581176  0.623737"
      ]
     },
     "execution_count": 67,
     "metadata": {},
     "output_type": "execute_result"
    }
   ],
   "source": [
    "update_performance(name = 'Decision Tree', model = dt, test = y_test , pred=y_pred_dt)\n",
    "perf_score"
   ]
  },
  {
   "cell_type": "code",
   "execution_count": 68,
   "id": "9542a6aa",
   "metadata": {},
   "outputs": [],
   "source": [
    "# using hyper parameter"
   ]
  },
  {
   "cell_type": "code",
   "execution_count": 69,
   "id": "89f55eb8",
   "metadata": {},
   "outputs": [],
   "source": [
    "tuned_paramaters = [{'criterion': ['entropy','gini'],\n",
    "                     'max_depth': [5,10],  # 5,6,7,\n",
    "                     'max_features': [\"sqrt\", \"log2\"], # it can be either square root of the feature or log of number of features\n",
    "                     'min_samples_split': [2,5,8], # 1-3% of the total records\n",
    "                     'min_samples_leaf': [1,5,9], # 1-3% of the min_sample_split\n",
    "                     'max_leaf_nodes': [5,8]}]"
   ]
  },
  {
   "cell_type": "code",
   "execution_count": 70,
   "id": "c92e11a4",
   "metadata": {},
   "outputs": [],
   "source": [
    "dt_n = DecisionTreeClassifier(random_state=10)"
   ]
  },
  {
   "cell_type": "code",
   "execution_count": 71,
   "id": "7a76e780",
   "metadata": {},
   "outputs": [],
   "source": [
    "tree_grid = GridSearchCV(estimator=dt_n, param_grid=tuned_paramaters, cv=5)"
   ]
  },
  {
   "cell_type": "code",
   "execution_count": 72,
   "id": "d10c8f12",
   "metadata": {},
   "outputs": [
    {
     "name": "stdout",
     "output_type": "stream",
     "text": [
      "best Parameters for decision tree classifier: {'criterion': 'gini', 'max_depth': 5, 'max_features': 'sqrt', 'max_leaf_nodes': 8, 'min_samples_leaf': 1, 'min_samples_split': 2} \n",
      "\n"
     ]
    }
   ],
   "source": [
    "tree_grid_model = tree_grid.fit(x_train, y_train)\n",
    "print('best Parameters for decision tree classifier:', tree_grid_model.best_params_,'\\n')"
   ]
  },
  {
   "cell_type": "code",
   "execution_count": 73,
   "id": "d4ddd77d",
   "metadata": {},
   "outputs": [],
   "source": [
    "dt_grid_model = DecisionTreeClassifier(criterion= 'gini', max_depth= 5, max_features= 'sqrt', max_leaf_nodes= 8,\\\n",
    "                                       min_samples_leaf= 1, min_samples_split= 2)"
   ]
  },
  {
   "cell_type": "code",
   "execution_count": 74,
   "id": "6cb2d270",
   "metadata": {},
   "outputs": [
    {
     "data": {
      "text/plain": [
       "array([0, 1, 0, ..., 1, 0, 0], dtype=int64)"
      ]
     },
     "execution_count": 74,
     "metadata": {},
     "output_type": "execute_result"
    }
   ],
   "source": [
    "dt_grid_model = dt_grid_model.fit(x_train, y_train)\n",
    "y_pred_dt_tp = dt_grid_model.predict(x_test)\n",
    "y_pred_dt_tp"
   ]
  },
  {
   "cell_type": "code",
   "execution_count": 75,
   "id": "cf5ea423",
   "metadata": {},
   "outputs": [
    {
     "data": {
      "text/html": [
       "<div>\n",
       "<style scoped>\n",
       "    .dataframe tbody tr th:only-of-type {\n",
       "        vertical-align: middle;\n",
       "    }\n",
       "\n",
       "    .dataframe tbody tr th {\n",
       "        vertical-align: top;\n",
       "    }\n",
       "\n",
       "    .dataframe thead th {\n",
       "        text-align: right;\n",
       "    }\n",
       "</style>\n",
       "<table border=\"1\" class=\"dataframe\">\n",
       "  <thead>\n",
       "    <tr style=\"text-align: right;\">\n",
       "      <th></th>\n",
       "      <th>Model</th>\n",
       "      <th>Accuracy</th>\n",
       "      <th>Recall</th>\n",
       "      <th>Precision</th>\n",
       "      <th>F1 Score</th>\n",
       "    </tr>\n",
       "  </thead>\n",
       "  <tbody>\n",
       "    <tr>\n",
       "      <th>0</th>\n",
       "      <td>Logisticreg-skl</td>\n",
       "      <td>0.842667</td>\n",
       "      <td>0.553134</td>\n",
       "      <td>0.738182</td>\n",
       "      <td>0.632399</td>\n",
       "    </tr>\n",
       "    <tr>\n",
       "      <th>1</th>\n",
       "      <td>GNB</td>\n",
       "      <td>0.823333</td>\n",
       "      <td>0.517711</td>\n",
       "      <td>0.683453</td>\n",
       "      <td>0.589147</td>\n",
       "    </tr>\n",
       "    <tr>\n",
       "      <th>2</th>\n",
       "      <td>BNB</td>\n",
       "      <td>0.801333</td>\n",
       "      <td>0.673025</td>\n",
       "      <td>0.581176</td>\n",
       "      <td>0.623737</td>\n",
       "    </tr>\n",
       "    <tr>\n",
       "      <th>3</th>\n",
       "      <td>Decision Tree</td>\n",
       "      <td>0.801333</td>\n",
       "      <td>0.673025</td>\n",
       "      <td>0.581176</td>\n",
       "      <td>0.623737</td>\n",
       "    </tr>\n",
       "    <tr>\n",
       "      <th>4</th>\n",
       "      <td>Decision Tree tunned</td>\n",
       "      <td>0.83</td>\n",
       "      <td>0.542234</td>\n",
       "      <td>0.695804</td>\n",
       "      <td>0.609495</td>\n",
       "    </tr>\n",
       "  </tbody>\n",
       "</table>\n",
       "</div>"
      ],
      "text/plain": [
       "                  Model  Accuracy    Recall Precision  F1 Score\n",
       "0       Logisticreg-skl  0.842667  0.553134  0.738182  0.632399\n",
       "1                   GNB  0.823333  0.517711  0.683453  0.589147\n",
       "2                   BNB  0.801333  0.673025  0.581176  0.623737\n",
       "3         Decision Tree  0.801333  0.673025  0.581176  0.623737\n",
       "4  Decision Tree tunned      0.83  0.542234  0.695804  0.609495"
      ]
     },
     "execution_count": 75,
     "metadata": {},
     "output_type": "execute_result"
    }
   ],
   "source": [
    "update_performance(name = 'Decision Tree tunned', model = dt_grid_model, test = y_test , pred=y_pred_dt_tp)\n",
    "perf_score"
   ]
  },
  {
   "cell_type": "code",
   "execution_count": 76,
   "id": "64d0a19a",
   "metadata": {},
   "outputs": [],
   "source": [
    "## Random Forest"
   ]
  },
  {
   "cell_type": "code",
   "execution_count": 77,
   "id": "e534c0a8",
   "metadata": {},
   "outputs": [],
   "source": [
    "params =             [{'criterion': ['entropy', 'gini'],\n",
    "                     'n_estimators': [100],\n",
    "                     'max_depth': [10, 15],\n",
    "                     'max_features': ['sqrt', 'log2'],\n",
    "                     'min_samples_split': [2, 8],\n",
    "                     'min_samples_leaf': [5, 9],\n",
    "                     'max_leaf_nodes': [8, 11]}]"
   ]
  },
  {
   "cell_type": "code",
   "execution_count": 79,
   "id": "7e752322",
   "metadata": {},
   "outputs": [],
   "source": [
    "from sklearn.ensemble import RandomForestClassifier"
   ]
  },
  {
   "cell_type": "code",
   "execution_count": 81,
   "id": "0ee71309",
   "metadata": {},
   "outputs": [
    {
     "data": {
      "text/plain": [
       "{'criterion': 'entropy',\n",
       " 'max_depth': 10,\n",
       " 'max_features': 'sqrt',\n",
       " 'max_leaf_nodes': 11,\n",
       " 'min_samples_leaf': 9,\n",
       " 'min_samples_split': 2,\n",
       " 'n_estimators': 100}"
      ]
     },
     "execution_count": 81,
     "metadata": {},
     "output_type": "execute_result"
    }
   ],
   "source": [
    "rf =RandomForestClassifier(random_state=10)\n",
    "\n",
    "rf_cv = GridSearchCV(rf,params,cv=5,scoring='accuracy')\n",
    "\n",
    "rf_cv.fit(x_train,y_train)\n",
    "\n",
    "rf_cv.best_params_"
   ]
  },
  {
   "cell_type": "code",
   "execution_count": 83,
   "id": "870509a2",
   "metadata": {},
   "outputs": [],
   "source": [
    "rf_model = RandomForestClassifier(criterion ='entropy' ,\n",
    "                                  n_estimators =100 ,\n",
    "                                  max_depth = 10 ,\n",
    "                                  max_features = 'sqrt',\n",
    "                                  max_leaf_nodes =11 ,\n",
    "                                  min_samples_leaf =9 ,\n",
    "                                  min_samples_split = 2,\n",
    "                                  random_state = 10)"
   ]
  },
  {
   "cell_type": "code",
   "execution_count": 84,
   "id": "0d2d075c",
   "metadata": {},
   "outputs": [],
   "source": [
    "rf_model.fit(x_train,y_train)\n",
    "\n",
    "ypred_rf_tp = rf_model.predict(x_test)"
   ]
  },
  {
   "cell_type": "code",
   "execution_count": 85,
   "id": "26ea0990",
   "metadata": {},
   "outputs": [
    {
     "data": {
      "text/html": [
       "<div>\n",
       "<style scoped>\n",
       "    .dataframe tbody tr th:only-of-type {\n",
       "        vertical-align: middle;\n",
       "    }\n",
       "\n",
       "    .dataframe tbody tr th {\n",
       "        vertical-align: top;\n",
       "    }\n",
       "\n",
       "    .dataframe thead th {\n",
       "        text-align: right;\n",
       "    }\n",
       "</style>\n",
       "<table border=\"1\" class=\"dataframe\">\n",
       "  <thead>\n",
       "    <tr style=\"text-align: right;\">\n",
       "      <th></th>\n",
       "      <th>Model</th>\n",
       "      <th>Accuracy</th>\n",
       "      <th>Recall</th>\n",
       "      <th>Precision</th>\n",
       "      <th>F1 Score</th>\n",
       "    </tr>\n",
       "  </thead>\n",
       "  <tbody>\n",
       "    <tr>\n",
       "      <th>0</th>\n",
       "      <td>Logisticreg-skl</td>\n",
       "      <td>0.842667</td>\n",
       "      <td>0.553134</td>\n",
       "      <td>0.738182</td>\n",
       "      <td>0.632399</td>\n",
       "    </tr>\n",
       "    <tr>\n",
       "      <th>1</th>\n",
       "      <td>GNB</td>\n",
       "      <td>0.823333</td>\n",
       "      <td>0.517711</td>\n",
       "      <td>0.683453</td>\n",
       "      <td>0.589147</td>\n",
       "    </tr>\n",
       "    <tr>\n",
       "      <th>2</th>\n",
       "      <td>BNB</td>\n",
       "      <td>0.801333</td>\n",
       "      <td>0.673025</td>\n",
       "      <td>0.581176</td>\n",
       "      <td>0.623737</td>\n",
       "    </tr>\n",
       "    <tr>\n",
       "      <th>3</th>\n",
       "      <td>Decision Tree</td>\n",
       "      <td>0.801333</td>\n",
       "      <td>0.673025</td>\n",
       "      <td>0.581176</td>\n",
       "      <td>0.623737</td>\n",
       "    </tr>\n",
       "    <tr>\n",
       "      <th>4</th>\n",
       "      <td>Decision Tree tunned</td>\n",
       "      <td>0.83</td>\n",
       "      <td>0.542234</td>\n",
       "      <td>0.695804</td>\n",
       "      <td>0.609495</td>\n",
       "    </tr>\n",
       "    <tr>\n",
       "      <th>5</th>\n",
       "      <td>Random-forest tunned</td>\n",
       "      <td>0.854</td>\n",
       "      <td>0.53406</td>\n",
       "      <td>0.803279</td>\n",
       "      <td>0.641571</td>\n",
       "    </tr>\n",
       "  </tbody>\n",
       "</table>\n",
       "</div>"
      ],
      "text/plain": [
       "                  Model  Accuracy    Recall Precision  F1 Score\n",
       "0       Logisticreg-skl  0.842667  0.553134  0.738182  0.632399\n",
       "1                   GNB  0.823333  0.517711  0.683453  0.589147\n",
       "2                   BNB  0.801333  0.673025  0.581176  0.623737\n",
       "3         Decision Tree  0.801333  0.673025  0.581176  0.623737\n",
       "4  Decision Tree tunned      0.83  0.542234  0.695804  0.609495\n",
       "5  Random-forest tunned     0.854   0.53406  0.803279  0.641571"
      ]
     },
     "execution_count": 85,
     "metadata": {},
     "output_type": "execute_result"
    }
   ],
   "source": [
    "update_performance(name='Random-forest tunned',model=rf_model,test=y_test,pred=ypred_rf_tp)\n",
    "\n",
    "# Print the Dataframe\n",
    "perf_score"
   ]
  },
  {
   "cell_type": "code",
   "execution_count": 86,
   "id": "642659e6",
   "metadata": {},
   "outputs": [],
   "source": [
    "from sklearn.ensemble import BaggingClassifier"
   ]
  },
  {
   "cell_type": "code",
   "execution_count": 87,
   "id": "b6c8dad6",
   "metadata": {},
   "outputs": [],
   "source": [
    "dt = DecisionTreeClassifier(random_state=10)\n",
    "\n",
    "bc = BaggingClassifier(dt)\n",
    "\n",
    "bc.fit(x_train,y_train)\n",
    "\n",
    "ypred_bc = bc.predict(x_test)"
   ]
  },
  {
   "cell_type": "code",
   "execution_count": 88,
   "id": "4dfafac6",
   "metadata": {},
   "outputs": [
    {
     "data": {
      "text/html": [
       "<div>\n",
       "<style scoped>\n",
       "    .dataframe tbody tr th:only-of-type {\n",
       "        vertical-align: middle;\n",
       "    }\n",
       "\n",
       "    .dataframe tbody tr th {\n",
       "        vertical-align: top;\n",
       "    }\n",
       "\n",
       "    .dataframe thead th {\n",
       "        text-align: right;\n",
       "    }\n",
       "</style>\n",
       "<table border=\"1\" class=\"dataframe\">\n",
       "  <thead>\n",
       "    <tr style=\"text-align: right;\">\n",
       "      <th></th>\n",
       "      <th>Model</th>\n",
       "      <th>Accuracy</th>\n",
       "      <th>Recall</th>\n",
       "      <th>Precision</th>\n",
       "      <th>F1 Score</th>\n",
       "    </tr>\n",
       "  </thead>\n",
       "  <tbody>\n",
       "    <tr>\n",
       "      <th>0</th>\n",
       "      <td>Logisticreg-skl</td>\n",
       "      <td>0.842667</td>\n",
       "      <td>0.553134</td>\n",
       "      <td>0.738182</td>\n",
       "      <td>0.632399</td>\n",
       "    </tr>\n",
       "    <tr>\n",
       "      <th>1</th>\n",
       "      <td>GNB</td>\n",
       "      <td>0.823333</td>\n",
       "      <td>0.517711</td>\n",
       "      <td>0.683453</td>\n",
       "      <td>0.589147</td>\n",
       "    </tr>\n",
       "    <tr>\n",
       "      <th>2</th>\n",
       "      <td>BNB</td>\n",
       "      <td>0.801333</td>\n",
       "      <td>0.673025</td>\n",
       "      <td>0.581176</td>\n",
       "      <td>0.623737</td>\n",
       "    </tr>\n",
       "    <tr>\n",
       "      <th>3</th>\n",
       "      <td>Decision Tree</td>\n",
       "      <td>0.801333</td>\n",
       "      <td>0.673025</td>\n",
       "      <td>0.581176</td>\n",
       "      <td>0.623737</td>\n",
       "    </tr>\n",
       "    <tr>\n",
       "      <th>4</th>\n",
       "      <td>Decision Tree tunned</td>\n",
       "      <td>0.83</td>\n",
       "      <td>0.542234</td>\n",
       "      <td>0.695804</td>\n",
       "      <td>0.609495</td>\n",
       "    </tr>\n",
       "    <tr>\n",
       "      <th>5</th>\n",
       "      <td>Random-forest tunned</td>\n",
       "      <td>0.854</td>\n",
       "      <td>0.53406</td>\n",
       "      <td>0.803279</td>\n",
       "      <td>0.641571</td>\n",
       "    </tr>\n",
       "    <tr>\n",
       "      <th>6</th>\n",
       "      <td>Bagging Classifier</td>\n",
       "      <td>0.836667</td>\n",
       "      <td>0.553134</td>\n",
       "      <td>0.714789</td>\n",
       "      <td>0.623656</td>\n",
       "    </tr>\n",
       "  </tbody>\n",
       "</table>\n",
       "</div>"
      ],
      "text/plain": [
       "                  Model  Accuracy    Recall Precision  F1 Score\n",
       "0       Logisticreg-skl  0.842667  0.553134  0.738182  0.632399\n",
       "1                   GNB  0.823333  0.517711  0.683453  0.589147\n",
       "2                   BNB  0.801333  0.673025  0.581176  0.623737\n",
       "3         Decision Tree  0.801333  0.673025  0.581176  0.623737\n",
       "4  Decision Tree tunned      0.83  0.542234  0.695804  0.609495\n",
       "5  Random-forest tunned     0.854   0.53406  0.803279  0.641571\n",
       "6    Bagging Classifier  0.836667  0.553134  0.714789  0.623656"
      ]
     },
     "execution_count": 88,
     "metadata": {},
     "output_type": "execute_result"
    }
   ],
   "source": [
    "update_performance(name='Bagging Classifier',model=bc,test=y_test,pred=ypred_bc)\n",
    "\n",
    "# Print the Dataframe\n",
    "perf_score"
   ]
  },
  {
   "cell_type": "code",
   "execution_count": 89,
   "id": "b2d21eb8",
   "metadata": {},
   "outputs": [],
   "source": [
    "from sklearn.ensemble import AdaBoostClassifier"
   ]
  },
  {
   "cell_type": "code",
   "execution_count": 90,
   "id": "9d1dbf19",
   "metadata": {},
   "outputs": [],
   "source": [
    "abc1 = AdaBoostClassifier(dt,random_state=10)\n",
    "\n",
    "abc1.fit(x_train,y_train)\n",
    "\n",
    "ypred_abc1 = abc1.predict(x_test)"
   ]
  },
  {
   "cell_type": "code",
   "execution_count": 92,
   "id": "cf769a64",
   "metadata": {},
   "outputs": [
    {
     "data": {
      "text/html": [
       "<div>\n",
       "<style scoped>\n",
       "    .dataframe tbody tr th:only-of-type {\n",
       "        vertical-align: middle;\n",
       "    }\n",
       "\n",
       "    .dataframe tbody tr th {\n",
       "        vertical-align: top;\n",
       "    }\n",
       "\n",
       "    .dataframe thead th {\n",
       "        text-align: right;\n",
       "    }\n",
       "</style>\n",
       "<table border=\"1\" class=\"dataframe\">\n",
       "  <thead>\n",
       "    <tr style=\"text-align: right;\">\n",
       "      <th></th>\n",
       "      <th>Model</th>\n",
       "      <th>Accuracy</th>\n",
       "      <th>Recall</th>\n",
       "      <th>Precision</th>\n",
       "      <th>F1 Score</th>\n",
       "    </tr>\n",
       "  </thead>\n",
       "  <tbody>\n",
       "    <tr>\n",
       "      <th>0</th>\n",
       "      <td>Logisticreg-skl</td>\n",
       "      <td>0.842667</td>\n",
       "      <td>0.553134</td>\n",
       "      <td>0.738182</td>\n",
       "      <td>0.632399</td>\n",
       "    </tr>\n",
       "    <tr>\n",
       "      <th>1</th>\n",
       "      <td>GNB</td>\n",
       "      <td>0.823333</td>\n",
       "      <td>0.517711</td>\n",
       "      <td>0.683453</td>\n",
       "      <td>0.589147</td>\n",
       "    </tr>\n",
       "    <tr>\n",
       "      <th>2</th>\n",
       "      <td>BNB</td>\n",
       "      <td>0.801333</td>\n",
       "      <td>0.673025</td>\n",
       "      <td>0.581176</td>\n",
       "      <td>0.623737</td>\n",
       "    </tr>\n",
       "    <tr>\n",
       "      <th>3</th>\n",
       "      <td>Decision Tree</td>\n",
       "      <td>0.801333</td>\n",
       "      <td>0.673025</td>\n",
       "      <td>0.581176</td>\n",
       "      <td>0.623737</td>\n",
       "    </tr>\n",
       "    <tr>\n",
       "      <th>4</th>\n",
       "      <td>Decision Tree tunned</td>\n",
       "      <td>0.83</td>\n",
       "      <td>0.542234</td>\n",
       "      <td>0.695804</td>\n",
       "      <td>0.609495</td>\n",
       "    </tr>\n",
       "    <tr>\n",
       "      <th>5</th>\n",
       "      <td>Random-forest tunned</td>\n",
       "      <td>0.854</td>\n",
       "      <td>0.53406</td>\n",
       "      <td>0.803279</td>\n",
       "      <td>0.641571</td>\n",
       "    </tr>\n",
       "    <tr>\n",
       "      <th>6</th>\n",
       "      <td>Bagging Classifier</td>\n",
       "      <td>0.836667</td>\n",
       "      <td>0.553134</td>\n",
       "      <td>0.714789</td>\n",
       "      <td>0.623656</td>\n",
       "    </tr>\n",
       "    <tr>\n",
       "      <th>7</th>\n",
       "      <td>Adaboost</td>\n",
       "      <td>0.809333</td>\n",
       "      <td>0.531335</td>\n",
       "      <td>0.631068</td>\n",
       "      <td>0.576923</td>\n",
       "    </tr>\n",
       "  </tbody>\n",
       "</table>\n",
       "</div>"
      ],
      "text/plain": [
       "                  Model  Accuracy    Recall Precision  F1 Score\n",
       "0       Logisticreg-skl  0.842667  0.553134  0.738182  0.632399\n",
       "1                   GNB  0.823333  0.517711  0.683453  0.589147\n",
       "2                   BNB  0.801333  0.673025  0.581176  0.623737\n",
       "3         Decision Tree  0.801333  0.673025  0.581176  0.623737\n",
       "4  Decision Tree tunned      0.83  0.542234  0.695804  0.609495\n",
       "5  Random-forest tunned     0.854   0.53406  0.803279  0.641571\n",
       "6    Bagging Classifier  0.836667  0.553134  0.714789  0.623656\n",
       "7              Adaboost  0.809333  0.531335  0.631068  0.576923"
      ]
     },
     "execution_count": 92,
     "metadata": {},
     "output_type": "execute_result"
    }
   ],
   "source": [
    "update_performance(name='Adaboost',model=abc1,test=y_test,pred=ypred_abc1)\n",
    "\n",
    "# Print the Dataframe\n",
    "perf_score"
   ]
  },
  {
   "cell_type": "code",
   "execution_count": 93,
   "id": "c93fb38c",
   "metadata": {},
   "outputs": [],
   "source": [
    "from xgboost import XGBClassifier"
   ]
  },
  {
   "cell_type": "code",
   "execution_count": 94,
   "id": "d6551f0c",
   "metadata": {},
   "outputs": [],
   "source": [
    "xgb = XGBClassifier(booster='gbtree',gamma=3,max_depth=3,min_child_weight=3,\n",
    "                    n_estimator=50,reg_lambda=1,random_state=10)    # min_child_weight --> Cover\n",
    "\n",
    "xgb.fit(x_train,y_train)\n",
    "\n",
    "ypred_xgb = xgb.predict(x_test)"
   ]
  },
  {
   "cell_type": "code",
   "execution_count": 95,
   "id": "f7a761a8",
   "metadata": {},
   "outputs": [
    {
     "data": {
      "text/html": [
       "<div>\n",
       "<style scoped>\n",
       "    .dataframe tbody tr th:only-of-type {\n",
       "        vertical-align: middle;\n",
       "    }\n",
       "\n",
       "    .dataframe tbody tr th {\n",
       "        vertical-align: top;\n",
       "    }\n",
       "\n",
       "    .dataframe thead th {\n",
       "        text-align: right;\n",
       "    }\n",
       "</style>\n",
       "<table border=\"1\" class=\"dataframe\">\n",
       "  <thead>\n",
       "    <tr style=\"text-align: right;\">\n",
       "      <th></th>\n",
       "      <th>Model</th>\n",
       "      <th>Accuracy</th>\n",
       "      <th>Recall</th>\n",
       "      <th>Precision</th>\n",
       "      <th>F1 Score</th>\n",
       "    </tr>\n",
       "  </thead>\n",
       "  <tbody>\n",
       "    <tr>\n",
       "      <th>0</th>\n",
       "      <td>Logisticreg-skl</td>\n",
       "      <td>0.842667</td>\n",
       "      <td>0.553134</td>\n",
       "      <td>0.738182</td>\n",
       "      <td>0.632399</td>\n",
       "    </tr>\n",
       "    <tr>\n",
       "      <th>1</th>\n",
       "      <td>GNB</td>\n",
       "      <td>0.823333</td>\n",
       "      <td>0.517711</td>\n",
       "      <td>0.683453</td>\n",
       "      <td>0.589147</td>\n",
       "    </tr>\n",
       "    <tr>\n",
       "      <th>2</th>\n",
       "      <td>BNB</td>\n",
       "      <td>0.801333</td>\n",
       "      <td>0.673025</td>\n",
       "      <td>0.581176</td>\n",
       "      <td>0.623737</td>\n",
       "    </tr>\n",
       "    <tr>\n",
       "      <th>3</th>\n",
       "      <td>Decision Tree</td>\n",
       "      <td>0.801333</td>\n",
       "      <td>0.673025</td>\n",
       "      <td>0.581176</td>\n",
       "      <td>0.623737</td>\n",
       "    </tr>\n",
       "    <tr>\n",
       "      <th>4</th>\n",
       "      <td>Decision Tree tunned</td>\n",
       "      <td>0.83</td>\n",
       "      <td>0.542234</td>\n",
       "      <td>0.695804</td>\n",
       "      <td>0.609495</td>\n",
       "    </tr>\n",
       "    <tr>\n",
       "      <th>5</th>\n",
       "      <td>Random-forest tunned</td>\n",
       "      <td>0.854</td>\n",
       "      <td>0.53406</td>\n",
       "      <td>0.803279</td>\n",
       "      <td>0.641571</td>\n",
       "    </tr>\n",
       "    <tr>\n",
       "      <th>6</th>\n",
       "      <td>Bagging Classifier</td>\n",
       "      <td>0.836667</td>\n",
       "      <td>0.553134</td>\n",
       "      <td>0.714789</td>\n",
       "      <td>0.623656</td>\n",
       "    </tr>\n",
       "    <tr>\n",
       "      <th>7</th>\n",
       "      <td>Adaboost</td>\n",
       "      <td>0.809333</td>\n",
       "      <td>0.531335</td>\n",
       "      <td>0.631068</td>\n",
       "      <td>0.576923</td>\n",
       "    </tr>\n",
       "    <tr>\n",
       "      <th>8</th>\n",
       "      <td>XGBoost</td>\n",
       "      <td>0.862667</td>\n",
       "      <td>0.621253</td>\n",
       "      <td>0.772881</td>\n",
       "      <td>0.688822</td>\n",
       "    </tr>\n",
       "  </tbody>\n",
       "</table>\n",
       "</div>"
      ],
      "text/plain": [
       "                  Model  Accuracy    Recall Precision  F1 Score\n",
       "0       Logisticreg-skl  0.842667  0.553134  0.738182  0.632399\n",
       "1                   GNB  0.823333  0.517711  0.683453  0.589147\n",
       "2                   BNB  0.801333  0.673025  0.581176  0.623737\n",
       "3         Decision Tree  0.801333  0.673025  0.581176  0.623737\n",
       "4  Decision Tree tunned      0.83  0.542234  0.695804  0.609495\n",
       "5  Random-forest tunned     0.854   0.53406  0.803279  0.641571\n",
       "6    Bagging Classifier  0.836667  0.553134  0.714789  0.623656\n",
       "7              Adaboost  0.809333  0.531335  0.631068  0.576923\n",
       "8               XGBoost  0.862667  0.621253  0.772881  0.688822"
      ]
     },
     "execution_count": 95,
     "metadata": {},
     "output_type": "execute_result"
    }
   ],
   "source": [
    "update_performance(name='XGBoost',model=xgb,test=y_test,pred=ypred_xgb)\n",
    "\n",
    "# Print the Dataframe\n",
    "perf_score"
   ]
  },
  {
   "cell_type": "code",
   "execution_count": null,
   "id": "49d6ea8e",
   "metadata": {},
   "outputs": [],
   "source": []
  },
  {
   "cell_type": "code",
   "execution_count": null,
   "id": "27c87d22",
   "metadata": {},
   "outputs": [],
   "source": []
  },
  {
   "cell_type": "code",
   "execution_count": null,
   "id": "d61d69f3",
   "metadata": {},
   "outputs": [],
   "source": []
  }
 ],
 "metadata": {
  "kernelspec": {
   "display_name": "Python 3 (ipykernel)",
   "language": "python",
   "name": "python3"
  },
  "language_info": {
   "codemirror_mode": {
    "name": "ipython",
    "version": 3
   },
   "file_extension": ".py",
   "mimetype": "text/x-python",
   "name": "python",
   "nbconvert_exporter": "python",
   "pygments_lexer": "ipython3",
   "version": "3.10.9"
  }
 },
 "nbformat": 4,
 "nbformat_minor": 5
}
